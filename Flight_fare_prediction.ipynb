{
  "nbformat": 4,
  "nbformat_minor": 0,
  "metadata": {
    "colab": {
      "name": "Flight fare prediction.ipynb",
      "provenance": [],
      "collapsed_sections": []
    },
    "kernelspec": {
      "name": "python3",
      "display_name": "Python 3"
    },
    "language_info": {
      "name": "python"
    }
  },
  "cells": [
    {
      "cell_type": "code",
      "metadata": {
        "id": "cRS-LF_AMOyM"
      },
      "source": [
        "import pandas as pd\n",
        "import numpy as np\n",
        "import matplotlib.pyplot as plt\n",
        "%matplotlib inline\n",
        "import seaborn as sns"
      ],
      "execution_count": 1,
      "outputs": []
    },
    {
      "cell_type": "markdown",
      "metadata": {
        "id": "rP7G6kk6T9DA"
      },
      "source": [
        "# Reading our dataset\n"
      ]
    },
    {
      "cell_type": "code",
      "metadata": {
        "colab": {
          "base_uri": "https://localhost:8080/",
          "height": 598
        },
        "id": "1_b3ikQWUBN2",
        "outputId": "60ac77a9-0de8-4610-9966-a2c6d4ba704f"
      },
      "source": [
        "df=pd.read_csv(r\"/content/flight data.csv\")\n",
        "df.head()"
      ],
      "execution_count": 2,
      "outputs": [
        {
          "output_type": "execute_result",
          "data": {
            "text/html": [
              "<div>\n",
              "<style scoped>\n",
              "    .dataframe tbody tr th:only-of-type {\n",
              "        vertical-align: middle;\n",
              "    }\n",
              "\n",
              "    .dataframe tbody tr th {\n",
              "        vertical-align: top;\n",
              "    }\n",
              "\n",
              "    .dataframe thead th {\n",
              "        text-align: right;\n",
              "    }\n",
              "</style>\n",
              "<table border=\"1\" class=\"dataframe\">\n",
              "  <thead>\n",
              "    <tr style=\"text-align: right;\">\n",
              "      <th></th>\n",
              "      <th>Airline</th>\n",
              "      <th>Date_of_Journey</th>\n",
              "      <th>Source</th>\n",
              "      <th>Destination</th>\n",
              "      <th>Route</th>\n",
              "      <th>Dep_Time</th>\n",
              "      <th>Arrival_Time</th>\n",
              "      <th>Duration</th>\n",
              "      <th>Total_Stops</th>\n",
              "      <th>Additional_Info</th>\n",
              "      <th>Price</th>\n",
              "    </tr>\n",
              "  </thead>\n",
              "  <tbody>\n",
              "    <tr>\n",
              "      <th>0</th>\n",
              "      <td>IndiGo</td>\n",
              "      <td>24/03/2019</td>\n",
              "      <td>Banglore</td>\n",
              "      <td>New Delhi</td>\n",
              "      <td>BLR → DEL</td>\n",
              "      <td>22:20</td>\n",
              "      <td>01:10 22 Mar</td>\n",
              "      <td>2h 50m</td>\n",
              "      <td>non-stop</td>\n",
              "      <td>No info</td>\n",
              "      <td>3897</td>\n",
              "    </tr>\n",
              "    <tr>\n",
              "      <th>1</th>\n",
              "      <td>Air India</td>\n",
              "      <td>1/05/2019</td>\n",
              "      <td>Kolkata</td>\n",
              "      <td>Banglore</td>\n",
              "      <td>CCU → IXR → BBI → BLR</td>\n",
              "      <td>05:50</td>\n",
              "      <td>13:15</td>\n",
              "      <td>7h 25m</td>\n",
              "      <td>2 stops</td>\n",
              "      <td>No info</td>\n",
              "      <td>7662</td>\n",
              "    </tr>\n",
              "    <tr>\n",
              "      <th>2</th>\n",
              "      <td>Jet Airways</td>\n",
              "      <td>9/06/2019</td>\n",
              "      <td>Delhi</td>\n",
              "      <td>Cochin</td>\n",
              "      <td>DEL → LKO → BOM → COK</td>\n",
              "      <td>09:25</td>\n",
              "      <td>04:25 10 Jun</td>\n",
              "      <td>19h</td>\n",
              "      <td>2 stops</td>\n",
              "      <td>No info</td>\n",
              "      <td>13882</td>\n",
              "    </tr>\n",
              "    <tr>\n",
              "      <th>3</th>\n",
              "      <td>IndiGo</td>\n",
              "      <td>12/05/2019</td>\n",
              "      <td>Kolkata</td>\n",
              "      <td>Banglore</td>\n",
              "      <td>CCU → NAG → BLR</td>\n",
              "      <td>18:05</td>\n",
              "      <td>23:30</td>\n",
              "      <td>5h 25m</td>\n",
              "      <td>1 stop</td>\n",
              "      <td>No info</td>\n",
              "      <td>6218</td>\n",
              "    </tr>\n",
              "    <tr>\n",
              "      <th>4</th>\n",
              "      <td>IndiGo</td>\n",
              "      <td>01/03/2019</td>\n",
              "      <td>Banglore</td>\n",
              "      <td>New Delhi</td>\n",
              "      <td>BLR → NAG → DEL</td>\n",
              "      <td>16:50</td>\n",
              "      <td>21:35</td>\n",
              "      <td>4h 45m</td>\n",
              "      <td>1 stop</td>\n",
              "      <td>No info</td>\n",
              "      <td>13302</td>\n",
              "    </tr>\n",
              "  </tbody>\n",
              "</table>\n",
              "</div>"
            ],
            "text/plain": [
              "       Airline Date_of_Journey    Source  ... Total_Stops Additional_Info  Price\n",
              "0       IndiGo      24/03/2019  Banglore  ...    non-stop         No info   3897\n",
              "1    Air India       1/05/2019   Kolkata  ...     2 stops         No info   7662\n",
              "2  Jet Airways       9/06/2019     Delhi  ...     2 stops         No info  13882\n",
              "3       IndiGo      12/05/2019   Kolkata  ...      1 stop         No info   6218\n",
              "4       IndiGo      01/03/2019  Banglore  ...      1 stop         No info  13302\n",
              "\n",
              "[5 rows x 11 columns]"
            ]
          },
          "metadata": {},
          "execution_count": 2
        }
      ]
    },
    {
      "cell_type": "code",
      "metadata": {
        "colab": {
          "base_uri": "https://localhost:8080/"
        },
        "id": "SOaaCI6tUk4j",
        "outputId": "d255e32d-1267-4d36-98d4-31f9d1753127"
      },
      "source": [
        "#checking the shape\n",
        "df.shape"
      ],
      "execution_count": 3,
      "outputs": [
        {
          "output_type": "execute_result",
          "data": {
            "text/plain": [
              "(10683, 11)"
            ]
          },
          "metadata": {},
          "execution_count": 3
        }
      ]
    },
    {
      "cell_type": "code",
      "metadata": {
        "colab": {
          "base_uri": "https://localhost:8080/"
        },
        "id": "AVLtWbG4Ux71",
        "outputId": "04e53588-e727-437c-ef22-a5fd3103fbf0"
      },
      "source": [
        "#checking the columns\n",
        "df.columns"
      ],
      "execution_count": 4,
      "outputs": [
        {
          "output_type": "execute_result",
          "data": {
            "text/plain": [
              "Index(['Airline', 'Date_of_Journey', 'Source', 'Destination', 'Route',\n",
              "       'Dep_Time', 'Arrival_Time', 'Duration', 'Total_Stops',\n",
              "       'Additional_Info', 'Price'],\n",
              "      dtype='object')"
            ]
          },
          "metadata": {},
          "execution_count": 4
        }
      ]
    },
    {
      "cell_type": "code",
      "metadata": {
        "colab": {
          "base_uri": "https://localhost:8080/",
          "height": 425
        },
        "id": "XaN6dX_LU36l",
        "outputId": "e6c3a260-eb2f-43e9-9f3c-6b2ee2c1afad"
      },
      "source": [
        "df1=pd.read_csv(r'/content/flight test.csv')\n",
        "df1.head()"
      ],
      "execution_count": 5,
      "outputs": [
        {
          "output_type": "execute_result",
          "data": {
            "text/html": [
              "<div>\n",
              "<style scoped>\n",
              "    .dataframe tbody tr th:only-of-type {\n",
              "        vertical-align: middle;\n",
              "    }\n",
              "\n",
              "    .dataframe tbody tr th {\n",
              "        vertical-align: top;\n",
              "    }\n",
              "\n",
              "    .dataframe thead th {\n",
              "        text-align: right;\n",
              "    }\n",
              "</style>\n",
              "<table border=\"1\" class=\"dataframe\">\n",
              "  <thead>\n",
              "    <tr style=\"text-align: right;\">\n",
              "      <th></th>\n",
              "      <th>Airline</th>\n",
              "      <th>Date_of_Journey</th>\n",
              "      <th>Source</th>\n",
              "      <th>Destination</th>\n",
              "      <th>Route</th>\n",
              "      <th>Dep_Time</th>\n",
              "      <th>Arrival_Time</th>\n",
              "      <th>Duration</th>\n",
              "      <th>Total_Stops</th>\n",
              "      <th>Additional_Info</th>\n",
              "    </tr>\n",
              "  </thead>\n",
              "  <tbody>\n",
              "    <tr>\n",
              "      <th>0</th>\n",
              "      <td>Jet Airways</td>\n",
              "      <td>6/06/2019</td>\n",
              "      <td>Delhi</td>\n",
              "      <td>Cochin</td>\n",
              "      <td>DEL → BOM → COK</td>\n",
              "      <td>17:30</td>\n",
              "      <td>04:25 07 Jun</td>\n",
              "      <td>10h 55m</td>\n",
              "      <td>1 stop</td>\n",
              "      <td>No info</td>\n",
              "    </tr>\n",
              "    <tr>\n",
              "      <th>1</th>\n",
              "      <td>IndiGo</td>\n",
              "      <td>12/05/2019</td>\n",
              "      <td>Kolkata</td>\n",
              "      <td>Banglore</td>\n",
              "      <td>CCU → MAA → BLR</td>\n",
              "      <td>06:20</td>\n",
              "      <td>10:20</td>\n",
              "      <td>4h</td>\n",
              "      <td>1 stop</td>\n",
              "      <td>No info</td>\n",
              "    </tr>\n",
              "    <tr>\n",
              "      <th>2</th>\n",
              "      <td>Jet Airways</td>\n",
              "      <td>21/05/2019</td>\n",
              "      <td>Delhi</td>\n",
              "      <td>Cochin</td>\n",
              "      <td>DEL → BOM → COK</td>\n",
              "      <td>19:15</td>\n",
              "      <td>19:00 22 May</td>\n",
              "      <td>23h 45m</td>\n",
              "      <td>1 stop</td>\n",
              "      <td>In-flight meal not included</td>\n",
              "    </tr>\n",
              "    <tr>\n",
              "      <th>3</th>\n",
              "      <td>Multiple carriers</td>\n",
              "      <td>21/05/2019</td>\n",
              "      <td>Delhi</td>\n",
              "      <td>Cochin</td>\n",
              "      <td>DEL → BOM → COK</td>\n",
              "      <td>08:00</td>\n",
              "      <td>21:00</td>\n",
              "      <td>13h</td>\n",
              "      <td>1 stop</td>\n",
              "      <td>No info</td>\n",
              "    </tr>\n",
              "    <tr>\n",
              "      <th>4</th>\n",
              "      <td>Air Asia</td>\n",
              "      <td>24/06/2019</td>\n",
              "      <td>Banglore</td>\n",
              "      <td>Delhi</td>\n",
              "      <td>BLR → DEL</td>\n",
              "      <td>23:55</td>\n",
              "      <td>02:45 25 Jun</td>\n",
              "      <td>2h 50m</td>\n",
              "      <td>non-stop</td>\n",
              "      <td>No info</td>\n",
              "    </tr>\n",
              "  </tbody>\n",
              "</table>\n",
              "</div>"
            ],
            "text/plain": [
              "             Airline Date_of_Journey  ... Total_Stops              Additional_Info\n",
              "0        Jet Airways       6/06/2019  ...      1 stop                      No info\n",
              "1             IndiGo      12/05/2019  ...      1 stop                      No info\n",
              "2        Jet Airways      21/05/2019  ...      1 stop  In-flight meal not included\n",
              "3  Multiple carriers      21/05/2019  ...      1 stop                      No info\n",
              "4           Air Asia      24/06/2019  ...    non-stop                      No info\n",
              "\n",
              "[5 rows x 10 columns]"
            ]
          },
          "metadata": {},
          "execution_count": 5
        }
      ]
    },
    {
      "cell_type": "code",
      "metadata": {
        "colab": {
          "base_uri": "https://localhost:8080/"
        },
        "id": "jDzJz81eVHYN",
        "outputId": "0cf38c37-3189-4722-ba64-9e0b85dd4757"
      },
      "source": [
        "df1.shape"
      ],
      "execution_count": 6,
      "outputs": [
        {
          "output_type": "execute_result",
          "data": {
            "text/plain": [
              "(2671, 10)"
            ]
          },
          "metadata": {},
          "execution_count": 6
        }
      ]
    },
    {
      "cell_type": "code",
      "metadata": {
        "id": "jKzBVCZMVNBF"
      },
      "source": [
        "#We will combine both the data for the purpose of feature enggineering"
      ],
      "execution_count": 7,
      "outputs": []
    },
    {
      "cell_type": "code",
      "metadata": {
        "id": "-IRFdBdrVZsk"
      },
      "source": [
        "total_df=df.append(df1,sort=False)"
      ],
      "execution_count": 8,
      "outputs": []
    },
    {
      "cell_type": "code",
      "metadata": {
        "colab": {
          "base_uri": "https://localhost:8080/",
          "height": 530
        },
        "id": "CSB-egF7Vk5k",
        "outputId": "88669052-d682-4c38-a6b8-8a1150b32107"
      },
      "source": [
        "total_df.tail()"
      ],
      "execution_count": 9,
      "outputs": [
        {
          "output_type": "execute_result",
          "data": {
            "text/html": [
              "<div>\n",
              "<style scoped>\n",
              "    .dataframe tbody tr th:only-of-type {\n",
              "        vertical-align: middle;\n",
              "    }\n",
              "\n",
              "    .dataframe tbody tr th {\n",
              "        vertical-align: top;\n",
              "    }\n",
              "\n",
              "    .dataframe thead th {\n",
              "        text-align: right;\n",
              "    }\n",
              "</style>\n",
              "<table border=\"1\" class=\"dataframe\">\n",
              "  <thead>\n",
              "    <tr style=\"text-align: right;\">\n",
              "      <th></th>\n",
              "      <th>Airline</th>\n",
              "      <th>Date_of_Journey</th>\n",
              "      <th>Source</th>\n",
              "      <th>Destination</th>\n",
              "      <th>Route</th>\n",
              "      <th>Dep_Time</th>\n",
              "      <th>Arrival_Time</th>\n",
              "      <th>Duration</th>\n",
              "      <th>Total_Stops</th>\n",
              "      <th>Additional_Info</th>\n",
              "      <th>Price</th>\n",
              "    </tr>\n",
              "  </thead>\n",
              "  <tbody>\n",
              "    <tr>\n",
              "      <th>2666</th>\n",
              "      <td>Air India</td>\n",
              "      <td>6/06/2019</td>\n",
              "      <td>Kolkata</td>\n",
              "      <td>Banglore</td>\n",
              "      <td>CCU → DEL → BLR</td>\n",
              "      <td>20:30</td>\n",
              "      <td>20:25 07 Jun</td>\n",
              "      <td>23h 55m</td>\n",
              "      <td>1 stop</td>\n",
              "      <td>No info</td>\n",
              "      <td>NaN</td>\n",
              "    </tr>\n",
              "    <tr>\n",
              "      <th>2667</th>\n",
              "      <td>IndiGo</td>\n",
              "      <td>27/03/2019</td>\n",
              "      <td>Kolkata</td>\n",
              "      <td>Banglore</td>\n",
              "      <td>CCU → BLR</td>\n",
              "      <td>14:20</td>\n",
              "      <td>16:55</td>\n",
              "      <td>2h 35m</td>\n",
              "      <td>non-stop</td>\n",
              "      <td>No info</td>\n",
              "      <td>NaN</td>\n",
              "    </tr>\n",
              "    <tr>\n",
              "      <th>2668</th>\n",
              "      <td>Jet Airways</td>\n",
              "      <td>6/03/2019</td>\n",
              "      <td>Delhi</td>\n",
              "      <td>Cochin</td>\n",
              "      <td>DEL → BOM → COK</td>\n",
              "      <td>21:50</td>\n",
              "      <td>04:25 07 Mar</td>\n",
              "      <td>6h 35m</td>\n",
              "      <td>1 stop</td>\n",
              "      <td>No info</td>\n",
              "      <td>NaN</td>\n",
              "    </tr>\n",
              "    <tr>\n",
              "      <th>2669</th>\n",
              "      <td>Air India</td>\n",
              "      <td>6/03/2019</td>\n",
              "      <td>Delhi</td>\n",
              "      <td>Cochin</td>\n",
              "      <td>DEL → BOM → COK</td>\n",
              "      <td>04:00</td>\n",
              "      <td>19:15</td>\n",
              "      <td>15h 15m</td>\n",
              "      <td>1 stop</td>\n",
              "      <td>No info</td>\n",
              "      <td>NaN</td>\n",
              "    </tr>\n",
              "    <tr>\n",
              "      <th>2670</th>\n",
              "      <td>Multiple carriers</td>\n",
              "      <td>15/06/2019</td>\n",
              "      <td>Delhi</td>\n",
              "      <td>Cochin</td>\n",
              "      <td>DEL → BOM → COK</td>\n",
              "      <td>04:55</td>\n",
              "      <td>19:15</td>\n",
              "      <td>14h 20m</td>\n",
              "      <td>1 stop</td>\n",
              "      <td>No info</td>\n",
              "      <td>NaN</td>\n",
              "    </tr>\n",
              "  </tbody>\n",
              "</table>\n",
              "</div>"
            ],
            "text/plain": [
              "                Airline Date_of_Journey  ... Additional_Info Price\n",
              "2666          Air India       6/06/2019  ...         No info   NaN\n",
              "2667             IndiGo      27/03/2019  ...         No info   NaN\n",
              "2668        Jet Airways       6/03/2019  ...         No info   NaN\n",
              "2669          Air India       6/03/2019  ...         No info   NaN\n",
              "2670  Multiple carriers      15/06/2019  ...         No info   NaN\n",
              "\n",
              "[5 rows x 11 columns]"
            ]
          },
          "metadata": {},
          "execution_count": 9
        }
      ]
    },
    {
      "cell_type": "code",
      "metadata": {
        "colab": {
          "base_uri": "https://localhost:8080/"
        },
        "id": "61OLfmvVVn72",
        "outputId": "a0e201ab-8133-48e1-9f1d-dfebb5fa2fe7"
      },
      "source": [
        "total_df.shape"
      ],
      "execution_count": 10,
      "outputs": [
        {
          "output_type": "execute_result",
          "data": {
            "text/plain": [
              "(13354, 11)"
            ]
          },
          "metadata": {},
          "execution_count": 10
        }
      ]
    },
    {
      "cell_type": "code",
      "metadata": {
        "colab": {
          "base_uri": "https://localhost:8080/",
          "height": 598
        },
        "id": "YORWkONnVuGm",
        "outputId": "0939101b-1ac5-4441-f51b-d5cc2322d493"
      },
      "source": [
        "total_df.head(5)"
      ],
      "execution_count": 11,
      "outputs": [
        {
          "output_type": "execute_result",
          "data": {
            "text/html": [
              "<div>\n",
              "<style scoped>\n",
              "    .dataframe tbody tr th:only-of-type {\n",
              "        vertical-align: middle;\n",
              "    }\n",
              "\n",
              "    .dataframe tbody tr th {\n",
              "        vertical-align: top;\n",
              "    }\n",
              "\n",
              "    .dataframe thead th {\n",
              "        text-align: right;\n",
              "    }\n",
              "</style>\n",
              "<table border=\"1\" class=\"dataframe\">\n",
              "  <thead>\n",
              "    <tr style=\"text-align: right;\">\n",
              "      <th></th>\n",
              "      <th>Airline</th>\n",
              "      <th>Date_of_Journey</th>\n",
              "      <th>Source</th>\n",
              "      <th>Destination</th>\n",
              "      <th>Route</th>\n",
              "      <th>Dep_Time</th>\n",
              "      <th>Arrival_Time</th>\n",
              "      <th>Duration</th>\n",
              "      <th>Total_Stops</th>\n",
              "      <th>Additional_Info</th>\n",
              "      <th>Price</th>\n",
              "    </tr>\n",
              "  </thead>\n",
              "  <tbody>\n",
              "    <tr>\n",
              "      <th>0</th>\n",
              "      <td>IndiGo</td>\n",
              "      <td>24/03/2019</td>\n",
              "      <td>Banglore</td>\n",
              "      <td>New Delhi</td>\n",
              "      <td>BLR → DEL</td>\n",
              "      <td>22:20</td>\n",
              "      <td>01:10 22 Mar</td>\n",
              "      <td>2h 50m</td>\n",
              "      <td>non-stop</td>\n",
              "      <td>No info</td>\n",
              "      <td>3897.0</td>\n",
              "    </tr>\n",
              "    <tr>\n",
              "      <th>1</th>\n",
              "      <td>Air India</td>\n",
              "      <td>1/05/2019</td>\n",
              "      <td>Kolkata</td>\n",
              "      <td>Banglore</td>\n",
              "      <td>CCU → IXR → BBI → BLR</td>\n",
              "      <td>05:50</td>\n",
              "      <td>13:15</td>\n",
              "      <td>7h 25m</td>\n",
              "      <td>2 stops</td>\n",
              "      <td>No info</td>\n",
              "      <td>7662.0</td>\n",
              "    </tr>\n",
              "    <tr>\n",
              "      <th>2</th>\n",
              "      <td>Jet Airways</td>\n",
              "      <td>9/06/2019</td>\n",
              "      <td>Delhi</td>\n",
              "      <td>Cochin</td>\n",
              "      <td>DEL → LKO → BOM → COK</td>\n",
              "      <td>09:25</td>\n",
              "      <td>04:25 10 Jun</td>\n",
              "      <td>19h</td>\n",
              "      <td>2 stops</td>\n",
              "      <td>No info</td>\n",
              "      <td>13882.0</td>\n",
              "    </tr>\n",
              "    <tr>\n",
              "      <th>3</th>\n",
              "      <td>IndiGo</td>\n",
              "      <td>12/05/2019</td>\n",
              "      <td>Kolkata</td>\n",
              "      <td>Banglore</td>\n",
              "      <td>CCU → NAG → BLR</td>\n",
              "      <td>18:05</td>\n",
              "      <td>23:30</td>\n",
              "      <td>5h 25m</td>\n",
              "      <td>1 stop</td>\n",
              "      <td>No info</td>\n",
              "      <td>6218.0</td>\n",
              "    </tr>\n",
              "    <tr>\n",
              "      <th>4</th>\n",
              "      <td>IndiGo</td>\n",
              "      <td>01/03/2019</td>\n",
              "      <td>Banglore</td>\n",
              "      <td>New Delhi</td>\n",
              "      <td>BLR → NAG → DEL</td>\n",
              "      <td>16:50</td>\n",
              "      <td>21:35</td>\n",
              "      <td>4h 45m</td>\n",
              "      <td>1 stop</td>\n",
              "      <td>No info</td>\n",
              "      <td>13302.0</td>\n",
              "    </tr>\n",
              "  </tbody>\n",
              "</table>\n",
              "</div>"
            ],
            "text/plain": [
              "       Airline Date_of_Journey    Source  ... Total_Stops Additional_Info    Price\n",
              "0       IndiGo      24/03/2019  Banglore  ...    non-stop         No info   3897.0\n",
              "1    Air India       1/05/2019   Kolkata  ...     2 stops         No info   7662.0\n",
              "2  Jet Airways       9/06/2019     Delhi  ...     2 stops         No info  13882.0\n",
              "3       IndiGo      12/05/2019   Kolkata  ...      1 stop         No info   6218.0\n",
              "4       IndiGo      01/03/2019  Banglore  ...      1 stop         No info  13302.0\n",
              "\n",
              "[5 rows x 11 columns]"
            ]
          },
          "metadata": {},
          "execution_count": 11
        }
      ]
    },
    {
      "cell_type": "markdown",
      "metadata": {
        "id": "CwRCPyvnWGWG"
      },
      "source": [
        "# Understanding our Data\n"
      ]
    },
    {
      "cell_type": "markdown",
      "metadata": {
        "id": "BS_CgKb7WToN"
      },
      "source": [
        "# Size Of training set : 10683\n",
        "# size of test data : 2671\n",
        "# Features:\n",
        "#Airline : The name of Airline\n",
        "#Source : The Source from which service begins\n",
        "#Destination : The destination where the service end\n",
        "#Route : The route taken by the flight to reach the destination\n",
        "#Dep_time : The time when the journey starts from the source.\n",
        "#Arrival Time : Time of arrival of the destination.\n",
        "#Duration : Total Duration of the flight.\n",
        "#Total Stops : Total stops during the destination.\n",
        "#Additional Info: Additional information of the flight\n",
        "#Price : The price of the ticket\n",
        "\n",
        "#Data Analysis"
      ]
    },
    {
      "cell_type": "code",
      "metadata": {
        "colab": {
          "base_uri": "https://localhost:8080/"
        },
        "id": "g3Ocr0PnagMP",
        "outputId": "0fb21b08-dddb-4b25-fd82-5a61176d7f3a"
      },
      "source": [
        "#we will doing this on train data only.\n",
        "df['Airline'].value_counts()"
      ],
      "execution_count": 12,
      "outputs": [
        {
          "output_type": "execute_result",
          "data": {
            "text/plain": [
              "Jet Airways                          3849\n",
              "IndiGo                               2053\n",
              "Air India                            1752\n",
              "Multiple carriers                    1196\n",
              "SpiceJet                              818\n",
              "Vistara                               479\n",
              "Air Asia                              319\n",
              "GoAir                                 194\n",
              "Multiple carriers Premium economy      13\n",
              "Jet Airways Business                    6\n",
              "Vistara Premium economy                 3\n",
              "Trujet                                  1\n",
              "Name: Airline, dtype: int64"
            ]
          },
          "metadata": {},
          "execution_count": 12
        }
      ]
    },
    {
      "cell_type": "code",
      "metadata": {
        "colab": {
          "base_uri": "https://localhost:8080/",
          "height": 327
        },
        "id": "xDYBqgBwa2Qd",
        "outputId": "4d6d7e9e-c559-4546-9cd8-a12adecae449"
      },
      "source": [
        "#Let see the relation between airline and price\n",
        "sns.catplot(y='Price',x='Airline',data=df.sort_values('Price',ascending=False),kind='boxen',height=6,aspect=3)\n",
        "plt.show() "
      ],
      "execution_count": 13,
      "outputs": [
        {
          "output_type": "display_data",
          "data": {
            "image/png": "[encoded data removed]",
            "text/plain": [
              "<Figure size 1296x432 with 1 Axes>"
            ]
          },
          "metadata": {
            "needs_background": "light"
          }
        }
      ]
    },
    {
      "cell_type": "markdown",
      "metadata": {
        "id": "283YcRHjbt8C"
      },
      "source": [
        "# Jet Airways Business has a highest Price."
      ]
    },
    {
      "cell_type": "code",
      "metadata": {
        "colab": {
          "base_uri": "https://localhost:8080/"
        },
        "id": "XtXxj-6Hb3JE",
        "outputId": "ac0e4402-d539-406a-c29c-1fbbfe513507"
      },
      "source": [
        "df['Source'].value_counts()"
      ],
      "execution_count": 14,
      "outputs": [
        {
          "output_type": "execute_result",
          "data": {
            "text/plain": [
              "Delhi       4537\n",
              "Kolkata     2871\n",
              "Banglore    2197\n",
              "Mumbai       697\n",
              "Chennai      381\n",
              "Name: Source, dtype: int64"
            ]
          },
          "metadata": {},
          "execution_count": 14
        }
      ]
    },
    {
      "cell_type": "code",
      "metadata": {
        "colab": {
          "base_uri": "https://localhost:8080/",
          "height": 327
        },
        "id": "BoLrVHIpb-WN",
        "outputId": "eaac8748-e598-4323-dab8-38894bb47696"
      },
      "source": [
        "#Finding the relation between source and price\n",
        "sns.catplot(y='Price',x='Source',data=df.sort_values('Price',ascending=False),kind='boxen',height=6,aspect=3)\n",
        "plt.show()"
      ],
      "execution_count": 15,
      "outputs": [
        {
          "output_type": "display_data",
          "data": {
            "image/png": "[encoded data removed]",
            "text/plain": [
              "<Figure size 1296x432 with 1 Axes>"
            ]
          },
          "metadata": {
            "needs_background": "light"
          }
        }
      ]
    },
    {
      "cell_type": "code",
      "metadata": {
        "colab": {
          "base_uri": "https://localhost:8080/"
        },
        "id": "CDHa9JjrcrVV",
        "outputId": "a5d70598-3b81-4f28-b9d6-88b40a60746a"
      },
      "source": [
        "#checking the destination\n",
        "df['Destination'].value_counts()"
      ],
      "execution_count": 16,
      "outputs": [
        {
          "output_type": "execute_result",
          "data": {
            "text/plain": [
              "Cochin       4537\n",
              "Banglore     2871\n",
              "Delhi        1265\n",
              "New Delhi     932\n",
              "Hyderabad     697\n",
              "Kolkata       381\n",
              "Name: Destination, dtype: int64"
            ]
          },
          "metadata": {},
          "execution_count": 16
        }
      ]
    },
    {
      "cell_type": "markdown",
      "metadata": {
        "id": "FU7rRdm9dFXx"
      },
      "source": [
        "# Doing same for destination"
      ]
    },
    {
      "cell_type": "code",
      "metadata": {
        "colab": {
          "base_uri": "https://localhost:8080/",
          "height": 327
        },
        "id": "Bbw11k3ndK1r",
        "outputId": "7a0c12b9-e25f-4de7-e50f-2fa335bc674b"
      },
      "source": [
        "sns.catplot(y='Price',x='Destination',data=df.sort_values('Price',ascending=False),kind='boxen',height=6,aspect=3)\n",
        "plt.show()"
      ],
      "execution_count": 17,
      "outputs": [
        {
          "output_type": "display_data",
          "data": {
            "image/png": "[encoded data removed]",
            "text/plain": [
              "<Figure size 1296x432 with 1 Axes>"
            ]
          },
          "metadata": {
            "needs_background": "light"
          }
        }
      ]
    },
    {
      "cell_type": "markdown",
      "metadata": {
        "id": "MtRxEEYpdxNY"
      },
      "source": [
        "# Feature Engginering"
      ]
    },
    {
      "cell_type": "code",
      "metadata": {
        "id": "RPDBmo4Id3Rj"
      },
      "source": [
        "total_df['Date']=total_df['Date_of_Journey'].str.split('/').str[0]\n",
        "total_df['Month']=total_df['Date_of_Journey'].str.split('/').str[1]\n",
        "total_df['Year']=total_df['Date_of_Journey'].str.split('/').str[2]"
      ],
      "execution_count": 18,
      "outputs": []
    },
    {
      "cell_type": "code",
      "metadata": {
        "colab": {
          "base_uri": "https://localhost:8080/",
          "height": 598
        },
        "id": "L2vb4eYBfh-b",
        "outputId": "981e8bdc-0d03-4e1f-c5ea-01601a4d4689"
      },
      "source": [
        "total_df.head()"
      ],
      "execution_count": 19,
      "outputs": [
        {
          "output_type": "execute_result",
          "data": {
            "text/html": [
              "<div>\n",
              "<style scoped>\n",
              "    .dataframe tbody tr th:only-of-type {\n",
              "        vertical-align: middle;\n",
              "    }\n",
              "\n",
              "    .dataframe tbody tr th {\n",
              "        vertical-align: top;\n",
              "    }\n",
              "\n",
              "    .dataframe thead th {\n",
              "        text-align: right;\n",
              "    }\n",
              "</style>\n",
              "<table border=\"1\" class=\"dataframe\">\n",
              "  <thead>\n",
              "    <tr style=\"text-align: right;\">\n",
              "      <th></th>\n",
              "      <th>Airline</th>\n",
              "      <th>Date_of_Journey</th>\n",
              "      <th>Source</th>\n",
              "      <th>Destination</th>\n",
              "      <th>Route</th>\n",
              "      <th>Dep_Time</th>\n",
              "      <th>Arrival_Time</th>\n",
              "      <th>Duration</th>\n",
              "      <th>Total_Stops</th>\n",
              "      <th>Additional_Info</th>\n",
              "      <th>Price</th>\n",
              "      <th>Date</th>\n",
              "      <th>Month</th>\n",
              "      <th>Year</th>\n",
              "    </tr>\n",
              "  </thead>\n",
              "  <tbody>\n",
              "    <tr>\n",
              "      <th>0</th>\n",
              "      <td>IndiGo</td>\n",
              "      <td>24/03/2019</td>\n",
              "      <td>Banglore</td>\n",
              "      <td>New Delhi</td>\n",
              "      <td>BLR → DEL</td>\n",
              "      <td>22:20</td>\n",
              "      <td>01:10 22 Mar</td>\n",
              "      <td>2h 50m</td>\n",
              "      <td>non-stop</td>\n",
              "      <td>No info</td>\n",
              "      <td>3897.0</td>\n",
              "      <td>24</td>\n",
              "      <td>03</td>\n",
              "      <td>2019</td>\n",
              "    </tr>\n",
              "    <tr>\n",
              "      <th>1</th>\n",
              "      <td>Air India</td>\n",
              "      <td>1/05/2019</td>\n",
              "      <td>Kolkata</td>\n",
              "      <td>Banglore</td>\n",
              "      <td>CCU → IXR → BBI → BLR</td>\n",
              "      <td>05:50</td>\n",
              "      <td>13:15</td>\n",
              "      <td>7h 25m</td>\n",
              "      <td>2 stops</td>\n",
              "      <td>No info</td>\n",
              "      <td>7662.0</td>\n",
              "      <td>1</td>\n",
              "      <td>05</td>\n",
              "      <td>2019</td>\n",
              "    </tr>\n",
              "    <tr>\n",
              "      <th>2</th>\n",
              "      <td>Jet Airways</td>\n",
              "      <td>9/06/2019</td>\n",
              "      <td>Delhi</td>\n",
              "      <td>Cochin</td>\n",
              "      <td>DEL → LKO → BOM → COK</td>\n",
              "      <td>09:25</td>\n",
              "      <td>04:25 10 Jun</td>\n",
              "      <td>19h</td>\n",
              "      <td>2 stops</td>\n",
              "      <td>No info</td>\n",
              "      <td>13882.0</td>\n",
              "      <td>9</td>\n",
              "      <td>06</td>\n",
              "      <td>2019</td>\n",
              "    </tr>\n",
              "    <tr>\n",
              "      <th>3</th>\n",
              "      <td>IndiGo</td>\n",
              "      <td>12/05/2019</td>\n",
              "      <td>Kolkata</td>\n",
              "      <td>Banglore</td>\n",
              "      <td>CCU → NAG → BLR</td>\n",
              "      <td>18:05</td>\n",
              "      <td>23:30</td>\n",
              "      <td>5h 25m</td>\n",
              "      <td>1 stop</td>\n",
              "      <td>No info</td>\n",
              "      <td>6218.0</td>\n",
              "      <td>12</td>\n",
              "      <td>05</td>\n",
              "      <td>2019</td>\n",
              "    </tr>\n",
              "    <tr>\n",
              "      <th>4</th>\n",
              "      <td>IndiGo</td>\n",
              "      <td>01/03/2019</td>\n",
              "      <td>Banglore</td>\n",
              "      <td>New Delhi</td>\n",
              "      <td>BLR → NAG → DEL</td>\n",
              "      <td>16:50</td>\n",
              "      <td>21:35</td>\n",
              "      <td>4h 45m</td>\n",
              "      <td>1 stop</td>\n",
              "      <td>No info</td>\n",
              "      <td>13302.0</td>\n",
              "      <td>01</td>\n",
              "      <td>03</td>\n",
              "      <td>2019</td>\n",
              "    </tr>\n",
              "  </tbody>\n",
              "</table>\n",
              "</div>"
            ],
            "text/plain": [
              "       Airline Date_of_Journey    Source Destination  ...    Price Date Month  Year\n",
              "0       IndiGo      24/03/2019  Banglore   New Delhi  ...   3897.0   24    03  2019\n",
              "1    Air India       1/05/2019   Kolkata    Banglore  ...   7662.0    1    05  2019\n",
              "2  Jet Airways       9/06/2019     Delhi      Cochin  ...  13882.0    9    06  2019\n",
              "3       IndiGo      12/05/2019   Kolkata    Banglore  ...   6218.0   12    05  2019\n",
              "4       IndiGo      01/03/2019  Banglore   New Delhi  ...  13302.0   01    03  2019\n",
              "\n",
              "[5 rows x 14 columns]"
            ]
          },
          "metadata": {},
          "execution_count": 19
        }
      ]
    },
    {
      "cell_type": "code",
      "metadata": {
        "id": "B9V8clngfl6i"
      },
      "source": [
        "total_df=total_df.drop(['Date_of_Journey'],axis=1)"
      ],
      "execution_count": 20,
      "outputs": []
    },
    {
      "cell_type": "code",
      "metadata": {
        "colab": {
          "base_uri": "https://localhost:8080/"
        },
        "id": "gjl-0mDvf5aJ",
        "outputId": "669a834d-34cc-476c-c79d-fc4e9977f64e"
      },
      "source": [
        "total_df.dtypes"
      ],
      "execution_count": 21,
      "outputs": [
        {
          "output_type": "execute_result",
          "data": {
            "text/plain": [
              "Airline             object\n",
              "Source              object\n",
              "Destination         object\n",
              "Route               object\n",
              "Dep_Time            object\n",
              "Arrival_Time        object\n",
              "Duration            object\n",
              "Total_Stops         object\n",
              "Additional_Info     object\n",
              "Price              float64\n",
              "Date                object\n",
              "Month               object\n",
              "Year                object\n",
              "dtype: object"
            ]
          },
          "metadata": {},
          "execution_count": 21
        }
      ]
    },
    {
      "cell_type": "code",
      "metadata": {
        "id": "bB6tKZJ4f8OZ"
      },
      "source": [
        "total_df['Date']=total_df['Date'].astype(int)\n",
        "total_df['Month']=total_df['Month'].astype(int)\n",
        "total_df['Year']=total_df['Year'].astype(int)"
      ],
      "execution_count": 22,
      "outputs": []
    },
    {
      "cell_type": "code",
      "metadata": {
        "colab": {
          "base_uri": "https://localhost:8080/"
        },
        "id": "Yv5mSJd0j_Sc",
        "outputId": "dbdf9c3e-6927-4f95-e214-a51d7a647f51"
      },
      "source": [
        "total_df.dtypes"
      ],
      "execution_count": 23,
      "outputs": [
        {
          "output_type": "execute_result",
          "data": {
            "text/plain": [
              "Airline             object\n",
              "Source              object\n",
              "Destination         object\n",
              "Route               object\n",
              "Dep_Time            object\n",
              "Arrival_Time        object\n",
              "Duration            object\n",
              "Total_Stops         object\n",
              "Additional_Info     object\n",
              "Price              float64\n",
              "Date                 int64\n",
              "Month                int64\n",
              "Year                 int64\n",
              "dtype: object"
            ]
          },
          "metadata": {},
          "execution_count": 23
        }
      ]
    },
    {
      "cell_type": "code",
      "metadata": {
        "colab": {
          "base_uri": "https://localhost:8080/",
          "height": 598
        },
        "id": "2zK2ykPbkCB8",
        "outputId": "1e2b8efd-aabc-4fd8-e51e-fe052c122ad5"
      },
      "source": [
        "total_df.head()"
      ],
      "execution_count": 24,
      "outputs": [
        {
          "output_type": "execute_result",
          "data": {
            "text/html": [
              "<div>\n",
              "<style scoped>\n",
              "    .dataframe tbody tr th:only-of-type {\n",
              "        vertical-align: middle;\n",
              "    }\n",
              "\n",
              "    .dataframe tbody tr th {\n",
              "        vertical-align: top;\n",
              "    }\n",
              "\n",
              "    .dataframe thead th {\n",
              "        text-align: right;\n",
              "    }\n",
              "</style>\n",
              "<table border=\"1\" class=\"dataframe\">\n",
              "  <thead>\n",
              "    <tr style=\"text-align: right;\">\n",
              "      <th></th>\n",
              "      <th>Airline</th>\n",
              "      <th>Source</th>\n",
              "      <th>Destination</th>\n",
              "      <th>Route</th>\n",
              "      <th>Dep_Time</th>\n",
              "      <th>Arrival_Time</th>\n",
              "      <th>Duration</th>\n",
              "      <th>Total_Stops</th>\n",
              "      <th>Additional_Info</th>\n",
              "      <th>Price</th>\n",
              "      <th>Date</th>\n",
              "      <th>Month</th>\n",
              "      <th>Year</th>\n",
              "    </tr>\n",
              "  </thead>\n",
              "  <tbody>\n",
              "    <tr>\n",
              "      <th>0</th>\n",
              "      <td>IndiGo</td>\n",
              "      <td>Banglore</td>\n",
              "      <td>New Delhi</td>\n",
              "      <td>BLR → DEL</td>\n",
              "      <td>22:20</td>\n",
              "      <td>01:10 22 Mar</td>\n",
              "      <td>2h 50m</td>\n",
              "      <td>non-stop</td>\n",
              "      <td>No info</td>\n",
              "      <td>3897.0</td>\n",
              "      <td>24</td>\n",
              "      <td>3</td>\n",
              "      <td>2019</td>\n",
              "    </tr>\n",
              "    <tr>\n",
              "      <th>1</th>\n",
              "      <td>Air India</td>\n",
              "      <td>Kolkata</td>\n",
              "      <td>Banglore</td>\n",
              "      <td>CCU → IXR → BBI → BLR</td>\n",
              "      <td>05:50</td>\n",
              "      <td>13:15</td>\n",
              "      <td>7h 25m</td>\n",
              "      <td>2 stops</td>\n",
              "      <td>No info</td>\n",
              "      <td>7662.0</td>\n",
              "      <td>1</td>\n",
              "      <td>5</td>\n",
              "      <td>2019</td>\n",
              "    </tr>\n",
              "    <tr>\n",
              "      <th>2</th>\n",
              "      <td>Jet Airways</td>\n",
              "      <td>Delhi</td>\n",
              "      <td>Cochin</td>\n",
              "      <td>DEL → LKO → BOM → COK</td>\n",
              "      <td>09:25</td>\n",
              "      <td>04:25 10 Jun</td>\n",
              "      <td>19h</td>\n",
              "      <td>2 stops</td>\n",
              "      <td>No info</td>\n",
              "      <td>13882.0</td>\n",
              "      <td>9</td>\n",
              "      <td>6</td>\n",
              "      <td>2019</td>\n",
              "    </tr>\n",
              "    <tr>\n",
              "      <th>3</th>\n",
              "      <td>IndiGo</td>\n",
              "      <td>Kolkata</td>\n",
              "      <td>Banglore</td>\n",
              "      <td>CCU → NAG → BLR</td>\n",
              "      <td>18:05</td>\n",
              "      <td>23:30</td>\n",
              "      <td>5h 25m</td>\n",
              "      <td>1 stop</td>\n",
              "      <td>No info</td>\n",
              "      <td>6218.0</td>\n",
              "      <td>12</td>\n",
              "      <td>5</td>\n",
              "      <td>2019</td>\n",
              "    </tr>\n",
              "    <tr>\n",
              "      <th>4</th>\n",
              "      <td>IndiGo</td>\n",
              "      <td>Banglore</td>\n",
              "      <td>New Delhi</td>\n",
              "      <td>BLR → NAG → DEL</td>\n",
              "      <td>16:50</td>\n",
              "      <td>21:35</td>\n",
              "      <td>4h 45m</td>\n",
              "      <td>1 stop</td>\n",
              "      <td>No info</td>\n",
              "      <td>13302.0</td>\n",
              "      <td>1</td>\n",
              "      <td>3</td>\n",
              "      <td>2019</td>\n",
              "    </tr>\n",
              "  </tbody>\n",
              "</table>\n",
              "</div>"
            ],
            "text/plain": [
              "       Airline    Source Destination  ... Date Month  Year\n",
              "0       IndiGo  Banglore   New Delhi  ...   24     3  2019\n",
              "1    Air India   Kolkata    Banglore  ...    1     5  2019\n",
              "2  Jet Airways     Delhi      Cochin  ...    9     6  2019\n",
              "3       IndiGo   Kolkata    Banglore  ...   12     5  2019\n",
              "4       IndiGo  Banglore   New Delhi  ...    1     3  2019\n",
              "\n",
              "[5 rows x 13 columns]"
            ]
          },
          "metadata": {},
          "execution_count": 24
        }
      ]
    },
    {
      "cell_type": "markdown",
      "metadata": {
        "id": "5M0PdlDzkeJh"
      },
      "source": [
        "# Lets see if additional info has any effect on price"
      ]
    },
    {
      "cell_type": "code",
      "metadata": {
        "colab": {
          "base_uri": "https://localhost:8080/"
        },
        "id": "vOULR_MkkoDx",
        "outputId": "7e3ec8a9-e3cb-444e-d82a-610c6f422994"
      },
      "source": [
        "total_df['Additional_Info'].value_counts()"
      ],
      "execution_count": 25,
      "outputs": [
        {
          "output_type": "execute_result",
          "data": {
            "text/plain": [
              "No info                         10493\n",
              "In-flight meal not included      2426\n",
              "No check-in baggage included      396\n",
              "1 Long layover                     20\n",
              "Change airports                     8\n",
              "Business class                      5\n",
              "No Info                             3\n",
              "1 Short layover                     1\n",
              "2 Long layover                      1\n",
              "Red-eye flight                      1\n",
              "Name: Additional_Info, dtype: int64"
            ]
          },
          "metadata": {},
          "execution_count": 25
        }
      ]
    },
    {
      "cell_type": "code",
      "metadata": {
        "colab": {
          "base_uri": "https://localhost:8080/",
          "height": 327
        },
        "id": "K3bpWlQSkwTs",
        "outputId": "0aa94ee4-d529-4f52-8462-32e5a9244a50"
      },
      "source": [
        "sns.catplot(y='Price',x='Additional_Info',data=df.sort_values('Price',ascending=False),kind='boxen',height=6,aspect=3)\n",
        "plt.show()"
      ],
      "execution_count": 26,
      "outputs": [
        {
          "output_type": "display_data",
          "data": {
            "image/png": "[encoded data removed]",
            "text/plain": [
              "<Figure size 1296x432 with 1 Axes>"
            ]
          },
          "metadata": {
            "needs_background": "light"
          }
        }
      ]
    },
    {
      "cell_type": "markdown",
      "metadata": {
        "id": "eokVqJZalbCR"
      },
      "source": [
        "# Filtering the arrival time"
      ]
    },
    {
      "cell_type": "code",
      "metadata": {
        "id": "m8-ZvrzSlhX6"
      },
      "source": [
        "total_df['Arrival_Time']=total_df['Arrival_Time'].str.split(' ').str[0]"
      ],
      "execution_count": 27,
      "outputs": []
    },
    {
      "cell_type": "code",
      "metadata": {
        "colab": {
          "base_uri": "https://localhost:8080/",
          "height": 598
        },
        "id": "FRP0kMXNl30C",
        "outputId": "0abdfdac-c8e6-4154-dd90-ca3c0b908689"
      },
      "source": [
        "total_df.head()"
      ],
      "execution_count": 28,
      "outputs": [
        {
          "output_type": "execute_result",
          "data": {
            "text/html": [
              "<div>\n",
              "<style scoped>\n",
              "    .dataframe tbody tr th:only-of-type {\n",
              "        vertical-align: middle;\n",
              "    }\n",
              "\n",
              "    .dataframe tbody tr th {\n",
              "        vertical-align: top;\n",
              "    }\n",
              "\n",
              "    .dataframe thead th {\n",
              "        text-align: right;\n",
              "    }\n",
              "</style>\n",
              "<table border=\"1\" class=\"dataframe\">\n",
              "  <thead>\n",
              "    <tr style=\"text-align: right;\">\n",
              "      <th></th>\n",
              "      <th>Airline</th>\n",
              "      <th>Source</th>\n",
              "      <th>Destination</th>\n",
              "      <th>Route</th>\n",
              "      <th>Dep_Time</th>\n",
              "      <th>Arrival_Time</th>\n",
              "      <th>Duration</th>\n",
              "      <th>Total_Stops</th>\n",
              "      <th>Additional_Info</th>\n",
              "      <th>Price</th>\n",
              "      <th>Date</th>\n",
              "      <th>Month</th>\n",
              "      <th>Year</th>\n",
              "    </tr>\n",
              "  </thead>\n",
              "  <tbody>\n",
              "    <tr>\n",
              "      <th>0</th>\n",
              "      <td>IndiGo</td>\n",
              "      <td>Banglore</td>\n",
              "      <td>New Delhi</td>\n",
              "      <td>BLR → DEL</td>\n",
              "      <td>22:20</td>\n",
              "      <td>01:10</td>\n",
              "      <td>2h 50m</td>\n",
              "      <td>non-stop</td>\n",
              "      <td>No info</td>\n",
              "      <td>3897.0</td>\n",
              "      <td>24</td>\n",
              "      <td>3</td>\n",
              "      <td>2019</td>\n",
              "    </tr>\n",
              "    <tr>\n",
              "      <th>1</th>\n",
              "      <td>Air India</td>\n",
              "      <td>Kolkata</td>\n",
              "      <td>Banglore</td>\n",
              "      <td>CCU → IXR → BBI → BLR</td>\n",
              "      <td>05:50</td>\n",
              "      <td>13:15</td>\n",
              "      <td>7h 25m</td>\n",
              "      <td>2 stops</td>\n",
              "      <td>No info</td>\n",
              "      <td>7662.0</td>\n",
              "      <td>1</td>\n",
              "      <td>5</td>\n",
              "      <td>2019</td>\n",
              "    </tr>\n",
              "    <tr>\n",
              "      <th>2</th>\n",
              "      <td>Jet Airways</td>\n",
              "      <td>Delhi</td>\n",
              "      <td>Cochin</td>\n",
              "      <td>DEL → LKO → BOM → COK</td>\n",
              "      <td>09:25</td>\n",
              "      <td>04:25</td>\n",
              "      <td>19h</td>\n",
              "      <td>2 stops</td>\n",
              "      <td>No info</td>\n",
              "      <td>13882.0</td>\n",
              "      <td>9</td>\n",
              "      <td>6</td>\n",
              "      <td>2019</td>\n",
              "    </tr>\n",
              "    <tr>\n",
              "      <th>3</th>\n",
              "      <td>IndiGo</td>\n",
              "      <td>Kolkata</td>\n",
              "      <td>Banglore</td>\n",
              "      <td>CCU → NAG → BLR</td>\n",
              "      <td>18:05</td>\n",
              "      <td>23:30</td>\n",
              "      <td>5h 25m</td>\n",
              "      <td>1 stop</td>\n",
              "      <td>No info</td>\n",
              "      <td>6218.0</td>\n",
              "      <td>12</td>\n",
              "      <td>5</td>\n",
              "      <td>2019</td>\n",
              "    </tr>\n",
              "    <tr>\n",
              "      <th>4</th>\n",
              "      <td>IndiGo</td>\n",
              "      <td>Banglore</td>\n",
              "      <td>New Delhi</td>\n",
              "      <td>BLR → NAG → DEL</td>\n",
              "      <td>16:50</td>\n",
              "      <td>21:35</td>\n",
              "      <td>4h 45m</td>\n",
              "      <td>1 stop</td>\n",
              "      <td>No info</td>\n",
              "      <td>13302.0</td>\n",
              "      <td>1</td>\n",
              "      <td>3</td>\n",
              "      <td>2019</td>\n",
              "    </tr>\n",
              "  </tbody>\n",
              "</table>\n",
              "</div>"
            ],
            "text/plain": [
              "       Airline    Source Destination  ... Date Month  Year\n",
              "0       IndiGo  Banglore   New Delhi  ...   24     3  2019\n",
              "1    Air India   Kolkata    Banglore  ...    1     5  2019\n",
              "2  Jet Airways     Delhi      Cochin  ...    9     6  2019\n",
              "3       IndiGo   Kolkata    Banglore  ...   12     5  2019\n",
              "4       IndiGo  Banglore   New Delhi  ...    1     3  2019\n",
              "\n",
              "[5 rows x 13 columns]"
            ]
          },
          "metadata": {},
          "execution_count": 28
        }
      ]
    },
    {
      "cell_type": "markdown",
      "metadata": {
        "id": "WzwjiunvmF5n"
      },
      "source": [
        "# Lets analyse stop columns"
      ]
    },
    {
      "cell_type": "code",
      "metadata": {
        "colab": {
          "base_uri": "https://localhost:8080/"
        },
        "id": "Iko221MemKJK",
        "outputId": "039fa936-d6a4-46a0-b5cd-9daacb48a57c"
      },
      "source": [
        "total_df['Total_Stops'].value_counts()"
      ],
      "execution_count": 29,
      "outputs": [
        {
          "output_type": "execute_result",
          "data": {
            "text/plain": [
              "1 stop      7056\n",
              "non-stop    4340\n",
              "2 stops     1899\n",
              "3 stops       56\n",
              "4 stops        2\n",
              "Name: Total_Stops, dtype: int64"
            ]
          },
          "metadata": {},
          "execution_count": 29
        }
      ]
    },
    {
      "cell_type": "code",
      "metadata": {
        "id": "7hBFZMxUmRKq"
      },
      "source": [
        "total_df['Total_Stops']=total_df['Total_Stops'].fillna('1 stop')"
      ],
      "execution_count": 30,
      "outputs": []
    },
    {
      "cell_type": "code",
      "metadata": {
        "colab": {
          "base_uri": "https://localhost:8080/"
        },
        "id": "gt9Yz6L8mria",
        "outputId": "e62159b3-e52f-4bd7-ffa1-5aae52248a26"
      },
      "source": [
        "total_df['Total_Stops'].isnull().sum()"
      ],
      "execution_count": 31,
      "outputs": [
        {
          "output_type": "execute_result",
          "data": {
            "text/plain": [
              "0"
            ]
          },
          "metadata": {},
          "execution_count": 31
        }
      ]
    },
    {
      "cell_type": "markdown",
      "metadata": {
        "id": "Wx7Ug6Xbm1YP"
      },
      "source": [
        "# Lets us make stop column numeric"
      ]
    },
    {
      "cell_type": "code",
      "metadata": {
        "id": "uQULyolem6Ug"
      },
      "source": [
        "total_df['Total_Stops']=total_df['Total_Stops'].replace('non-stop','0 stop')"
      ],
      "execution_count": 32,
      "outputs": []
    },
    {
      "cell_type": "code",
      "metadata": {
        "colab": {
          "base_uri": "https://localhost:8080/",
          "height": 598
        },
        "id": "tHrFqp2gnWmE",
        "outputId": "bb9e7ba6-498f-4eb6-82fb-09874509a227"
      },
      "source": [
        "total_df.head()"
      ],
      "execution_count": 33,
      "outputs": [
        {
          "output_type": "execute_result",
          "data": {
            "text/html": [
              "<div>\n",
              "<style scoped>\n",
              "    .dataframe tbody tr th:only-of-type {\n",
              "        vertical-align: middle;\n",
              "    }\n",
              "\n",
              "    .dataframe tbody tr th {\n",
              "        vertical-align: top;\n",
              "    }\n",
              "\n",
              "    .dataframe thead th {\n",
              "        text-align: right;\n",
              "    }\n",
              "</style>\n",
              "<table border=\"1\" class=\"dataframe\">\n",
              "  <thead>\n",
              "    <tr style=\"text-align: right;\">\n",
              "      <th></th>\n",
              "      <th>Airline</th>\n",
              "      <th>Source</th>\n",
              "      <th>Destination</th>\n",
              "      <th>Route</th>\n",
              "      <th>Dep_Time</th>\n",
              "      <th>Arrival_Time</th>\n",
              "      <th>Duration</th>\n",
              "      <th>Total_Stops</th>\n",
              "      <th>Additional_Info</th>\n",
              "      <th>Price</th>\n",
              "      <th>Date</th>\n",
              "      <th>Month</th>\n",
              "      <th>Year</th>\n",
              "    </tr>\n",
              "  </thead>\n",
              "  <tbody>\n",
              "    <tr>\n",
              "      <th>0</th>\n",
              "      <td>IndiGo</td>\n",
              "      <td>Banglore</td>\n",
              "      <td>New Delhi</td>\n",
              "      <td>BLR → DEL</td>\n",
              "      <td>22:20</td>\n",
              "      <td>01:10</td>\n",
              "      <td>2h 50m</td>\n",
              "      <td>0 stop</td>\n",
              "      <td>No info</td>\n",
              "      <td>3897.0</td>\n",
              "      <td>24</td>\n",
              "      <td>3</td>\n",
              "      <td>2019</td>\n",
              "    </tr>\n",
              "    <tr>\n",
              "      <th>1</th>\n",
              "      <td>Air India</td>\n",
              "      <td>Kolkata</td>\n",
              "      <td>Banglore</td>\n",
              "      <td>CCU → IXR → BBI → BLR</td>\n",
              "      <td>05:50</td>\n",
              "      <td>13:15</td>\n",
              "      <td>7h 25m</td>\n",
              "      <td>2 stops</td>\n",
              "      <td>No info</td>\n",
              "      <td>7662.0</td>\n",
              "      <td>1</td>\n",
              "      <td>5</td>\n",
              "      <td>2019</td>\n",
              "    </tr>\n",
              "    <tr>\n",
              "      <th>2</th>\n",
              "      <td>Jet Airways</td>\n",
              "      <td>Delhi</td>\n",
              "      <td>Cochin</td>\n",
              "      <td>DEL → LKO → BOM → COK</td>\n",
              "      <td>09:25</td>\n",
              "      <td>04:25</td>\n",
              "      <td>19h</td>\n",
              "      <td>2 stops</td>\n",
              "      <td>No info</td>\n",
              "      <td>13882.0</td>\n",
              "      <td>9</td>\n",
              "      <td>6</td>\n",
              "      <td>2019</td>\n",
              "    </tr>\n",
              "    <tr>\n",
              "      <th>3</th>\n",
              "      <td>IndiGo</td>\n",
              "      <td>Kolkata</td>\n",
              "      <td>Banglore</td>\n",
              "      <td>CCU → NAG → BLR</td>\n",
              "      <td>18:05</td>\n",
              "      <td>23:30</td>\n",
              "      <td>5h 25m</td>\n",
              "      <td>1 stop</td>\n",
              "      <td>No info</td>\n",
              "      <td>6218.0</td>\n",
              "      <td>12</td>\n",
              "      <td>5</td>\n",
              "      <td>2019</td>\n",
              "    </tr>\n",
              "    <tr>\n",
              "      <th>4</th>\n",
              "      <td>IndiGo</td>\n",
              "      <td>Banglore</td>\n",
              "      <td>New Delhi</td>\n",
              "      <td>BLR → NAG → DEL</td>\n",
              "      <td>16:50</td>\n",
              "      <td>21:35</td>\n",
              "      <td>4h 45m</td>\n",
              "      <td>1 stop</td>\n",
              "      <td>No info</td>\n",
              "      <td>13302.0</td>\n",
              "      <td>1</td>\n",
              "      <td>3</td>\n",
              "      <td>2019</td>\n",
              "    </tr>\n",
              "  </tbody>\n",
              "</table>\n",
              "</div>"
            ],
            "text/plain": [
              "       Airline    Source Destination  ... Date Month  Year\n",
              "0       IndiGo  Banglore   New Delhi  ...   24     3  2019\n",
              "1    Air India   Kolkata    Banglore  ...    1     5  2019\n",
              "2  Jet Airways     Delhi      Cochin  ...    9     6  2019\n",
              "3       IndiGo   Kolkata    Banglore  ...   12     5  2019\n",
              "4       IndiGo  Banglore   New Delhi  ...    1     3  2019\n",
              "\n",
              "[5 rows x 13 columns]"
            ]
          },
          "metadata": {},
          "execution_count": 33
        }
      ]
    },
    {
      "cell_type": "code",
      "metadata": {
        "id": "vpIwpni9BJVA"
      },
      "source": [
        "total_df['Stops']=total_df['Total_Stops'].str.split(' ').str[0]"
      ],
      "execution_count": 34,
      "outputs": []
    },
    {
      "cell_type": "code",
      "metadata": {
        "colab": {
          "base_uri": "https://localhost:8080/",
          "height": 598
        },
        "id": "uLvn6hpVBY2y",
        "outputId": "85a2cb41-663c-4596-e2ae-624ae27782ee"
      },
      "source": [
        "total_df.head()"
      ],
      "execution_count": 35,
      "outputs": [
        {
          "output_type": "execute_result",
          "data": {
            "text/html": [
              "<div>\n",
              "<style scoped>\n",
              "    .dataframe tbody tr th:only-of-type {\n",
              "        vertical-align: middle;\n",
              "    }\n",
              "\n",
              "    .dataframe tbody tr th {\n",
              "        vertical-align: top;\n",
              "    }\n",
              "\n",
              "    .dataframe thead th {\n",
              "        text-align: right;\n",
              "    }\n",
              "</style>\n",
              "<table border=\"1\" class=\"dataframe\">\n",
              "  <thead>\n",
              "    <tr style=\"text-align: right;\">\n",
              "      <th></th>\n",
              "      <th>Airline</th>\n",
              "      <th>Source</th>\n",
              "      <th>Destination</th>\n",
              "      <th>Route</th>\n",
              "      <th>Dep_Time</th>\n",
              "      <th>Arrival_Time</th>\n",
              "      <th>Duration</th>\n",
              "      <th>Total_Stops</th>\n",
              "      <th>Additional_Info</th>\n",
              "      <th>Price</th>\n",
              "      <th>Date</th>\n",
              "      <th>Month</th>\n",
              "      <th>Year</th>\n",
              "      <th>Stops</th>\n",
              "    </tr>\n",
              "  </thead>\n",
              "  <tbody>\n",
              "    <tr>\n",
              "      <th>0</th>\n",
              "      <td>IndiGo</td>\n",
              "      <td>Banglore</td>\n",
              "      <td>New Delhi</td>\n",
              "      <td>BLR → DEL</td>\n",
              "      <td>22:20</td>\n",
              "      <td>01:10</td>\n",
              "      <td>2h 50m</td>\n",
              "      <td>0 stop</td>\n",
              "      <td>No info</td>\n",
              "      <td>3897.0</td>\n",
              "      <td>24</td>\n",
              "      <td>3</td>\n",
              "      <td>2019</td>\n",
              "      <td>0</td>\n",
              "    </tr>\n",
              "    <tr>\n",
              "      <th>1</th>\n",
              "      <td>Air India</td>\n",
              "      <td>Kolkata</td>\n",
              "      <td>Banglore</td>\n",
              "      <td>CCU → IXR → BBI → BLR</td>\n",
              "      <td>05:50</td>\n",
              "      <td>13:15</td>\n",
              "      <td>7h 25m</td>\n",
              "      <td>2 stops</td>\n",
              "      <td>No info</td>\n",
              "      <td>7662.0</td>\n",
              "      <td>1</td>\n",
              "      <td>5</td>\n",
              "      <td>2019</td>\n",
              "      <td>2</td>\n",
              "    </tr>\n",
              "    <tr>\n",
              "      <th>2</th>\n",
              "      <td>Jet Airways</td>\n",
              "      <td>Delhi</td>\n",
              "      <td>Cochin</td>\n",
              "      <td>DEL → LKO → BOM → COK</td>\n",
              "      <td>09:25</td>\n",
              "      <td>04:25</td>\n",
              "      <td>19h</td>\n",
              "      <td>2 stops</td>\n",
              "      <td>No info</td>\n",
              "      <td>13882.0</td>\n",
              "      <td>9</td>\n",
              "      <td>6</td>\n",
              "      <td>2019</td>\n",
              "      <td>2</td>\n",
              "    </tr>\n",
              "    <tr>\n",
              "      <th>3</th>\n",
              "      <td>IndiGo</td>\n",
              "      <td>Kolkata</td>\n",
              "      <td>Banglore</td>\n",
              "      <td>CCU → NAG → BLR</td>\n",
              "      <td>18:05</td>\n",
              "      <td>23:30</td>\n",
              "      <td>5h 25m</td>\n",
              "      <td>1 stop</td>\n",
              "      <td>No info</td>\n",
              "      <td>6218.0</td>\n",
              "      <td>12</td>\n",
              "      <td>5</td>\n",
              "      <td>2019</td>\n",
              "      <td>1</td>\n",
              "    </tr>\n",
              "    <tr>\n",
              "      <th>4</th>\n",
              "      <td>IndiGo</td>\n",
              "      <td>Banglore</td>\n",
              "      <td>New Delhi</td>\n",
              "      <td>BLR → NAG → DEL</td>\n",
              "      <td>16:50</td>\n",
              "      <td>21:35</td>\n",
              "      <td>4h 45m</td>\n",
              "      <td>1 stop</td>\n",
              "      <td>No info</td>\n",
              "      <td>13302.0</td>\n",
              "      <td>1</td>\n",
              "      <td>3</td>\n",
              "      <td>2019</td>\n",
              "      <td>1</td>\n",
              "    </tr>\n",
              "  </tbody>\n",
              "</table>\n",
              "</div>"
            ],
            "text/plain": [
              "       Airline    Source Destination  ... Month  Year Stops\n",
              "0       IndiGo  Banglore   New Delhi  ...     3  2019     0\n",
              "1    Air India   Kolkata    Banglore  ...     5  2019     2\n",
              "2  Jet Airways     Delhi      Cochin  ...     6  2019     2\n",
              "3       IndiGo   Kolkata    Banglore  ...     5  2019     1\n",
              "4       IndiGo  Banglore   New Delhi  ...     3  2019     1\n",
              "\n",
              "[5 rows x 14 columns]"
            ]
          },
          "metadata": {},
          "execution_count": 35
        }
      ]
    },
    {
      "cell_type": "code",
      "metadata": {
        "id": "8LeL7d5DBbH7"
      },
      "source": [
        "total_df=total_df.drop(['Total_Stops'],axis=1)"
      ],
      "execution_count": 36,
      "outputs": []
    },
    {
      "cell_type": "code",
      "metadata": {
        "colab": {
          "base_uri": "https://localhost:8080/",
          "height": 598
        },
        "id": "sF_tpDNYB-Rv",
        "outputId": "58d58b2e-ccd9-49bc-f540-b01c05dee9e8"
      },
      "source": [
        "total_df.head()"
      ],
      "execution_count": 37,
      "outputs": [
        {
          "output_type": "execute_result",
          "data": {
            "text/html": [
              "<div>\n",
              "<style scoped>\n",
              "    .dataframe tbody tr th:only-of-type {\n",
              "        vertical-align: middle;\n",
              "    }\n",
              "\n",
              "    .dataframe tbody tr th {\n",
              "        vertical-align: top;\n",
              "    }\n",
              "\n",
              "    .dataframe thead th {\n",
              "        text-align: right;\n",
              "    }\n",
              "</style>\n",
              "<table border=\"1\" class=\"dataframe\">\n",
              "  <thead>\n",
              "    <tr style=\"text-align: right;\">\n",
              "      <th></th>\n",
              "      <th>Airline</th>\n",
              "      <th>Source</th>\n",
              "      <th>Destination</th>\n",
              "      <th>Route</th>\n",
              "      <th>Dep_Time</th>\n",
              "      <th>Arrival_Time</th>\n",
              "      <th>Duration</th>\n",
              "      <th>Additional_Info</th>\n",
              "      <th>Price</th>\n",
              "      <th>Date</th>\n",
              "      <th>Month</th>\n",
              "      <th>Year</th>\n",
              "      <th>Stops</th>\n",
              "    </tr>\n",
              "  </thead>\n",
              "  <tbody>\n",
              "    <tr>\n",
              "      <th>0</th>\n",
              "      <td>IndiGo</td>\n",
              "      <td>Banglore</td>\n",
              "      <td>New Delhi</td>\n",
              "      <td>BLR → DEL</td>\n",
              "      <td>22:20</td>\n",
              "      <td>01:10</td>\n",
              "      <td>2h 50m</td>\n",
              "      <td>No info</td>\n",
              "      <td>3897.0</td>\n",
              "      <td>24</td>\n",
              "      <td>3</td>\n",
              "      <td>2019</td>\n",
              "      <td>0</td>\n",
              "    </tr>\n",
              "    <tr>\n",
              "      <th>1</th>\n",
              "      <td>Air India</td>\n",
              "      <td>Kolkata</td>\n",
              "      <td>Banglore</td>\n",
              "      <td>CCU → IXR → BBI → BLR</td>\n",
              "      <td>05:50</td>\n",
              "      <td>13:15</td>\n",
              "      <td>7h 25m</td>\n",
              "      <td>No info</td>\n",
              "      <td>7662.0</td>\n",
              "      <td>1</td>\n",
              "      <td>5</td>\n",
              "      <td>2019</td>\n",
              "      <td>2</td>\n",
              "    </tr>\n",
              "    <tr>\n",
              "      <th>2</th>\n",
              "      <td>Jet Airways</td>\n",
              "      <td>Delhi</td>\n",
              "      <td>Cochin</td>\n",
              "      <td>DEL → LKO → BOM → COK</td>\n",
              "      <td>09:25</td>\n",
              "      <td>04:25</td>\n",
              "      <td>19h</td>\n",
              "      <td>No info</td>\n",
              "      <td>13882.0</td>\n",
              "      <td>9</td>\n",
              "      <td>6</td>\n",
              "      <td>2019</td>\n",
              "      <td>2</td>\n",
              "    </tr>\n",
              "    <tr>\n",
              "      <th>3</th>\n",
              "      <td>IndiGo</td>\n",
              "      <td>Kolkata</td>\n",
              "      <td>Banglore</td>\n",
              "      <td>CCU → NAG → BLR</td>\n",
              "      <td>18:05</td>\n",
              "      <td>23:30</td>\n",
              "      <td>5h 25m</td>\n",
              "      <td>No info</td>\n",
              "      <td>6218.0</td>\n",
              "      <td>12</td>\n",
              "      <td>5</td>\n",
              "      <td>2019</td>\n",
              "      <td>1</td>\n",
              "    </tr>\n",
              "    <tr>\n",
              "      <th>4</th>\n",
              "      <td>IndiGo</td>\n",
              "      <td>Banglore</td>\n",
              "      <td>New Delhi</td>\n",
              "      <td>BLR → NAG → DEL</td>\n",
              "      <td>16:50</td>\n",
              "      <td>21:35</td>\n",
              "      <td>4h 45m</td>\n",
              "      <td>No info</td>\n",
              "      <td>13302.0</td>\n",
              "      <td>1</td>\n",
              "      <td>3</td>\n",
              "      <td>2019</td>\n",
              "      <td>1</td>\n",
              "    </tr>\n",
              "  </tbody>\n",
              "</table>\n",
              "</div>"
            ],
            "text/plain": [
              "       Airline    Source Destination  ... Month  Year Stops\n",
              "0       IndiGo  Banglore   New Delhi  ...     3  2019     0\n",
              "1    Air India   Kolkata    Banglore  ...     5  2019     2\n",
              "2  Jet Airways     Delhi      Cochin  ...     6  2019     2\n",
              "3       IndiGo   Kolkata    Banglore  ...     5  2019     1\n",
              "4       IndiGo  Banglore   New Delhi  ...     3  2019     1\n",
              "\n",
              "[5 rows x 13 columns]"
            ]
          },
          "metadata": {},
          "execution_count": 37
        }
      ]
    },
    {
      "cell_type": "code",
      "metadata": {
        "colab": {
          "base_uri": "https://localhost:8080/"
        },
        "id": "QCD__aCMCAIj",
        "outputId": "3c9796bd-62a7-4e15-c6fa-13fea1fceea2"
      },
      "source": [
        "total_df.dtypes"
      ],
      "execution_count": 38,
      "outputs": [
        {
          "output_type": "execute_result",
          "data": {
            "text/plain": [
              "Airline             object\n",
              "Source              object\n",
              "Destination         object\n",
              "Route               object\n",
              "Dep_Time            object\n",
              "Arrival_Time        object\n",
              "Duration            object\n",
              "Additional_Info     object\n",
              "Price              float64\n",
              "Date                 int64\n",
              "Month                int64\n",
              "Year                 int64\n",
              "Stops               object\n",
              "dtype: object"
            ]
          },
          "metadata": {},
          "execution_count": 38
        }
      ]
    },
    {
      "cell_type": "code",
      "metadata": {
        "id": "P0P5_Re_CH6b"
      },
      "source": [
        "total_df['Stops']=total_df['Stops'].astype(int)"
      ],
      "execution_count": 39,
      "outputs": []
    },
    {
      "cell_type": "markdown",
      "metadata": {
        "id": "6eLJUwu1Cafb"
      },
      "source": [
        "# Similary we will try to convert all the features to numeric variable"
      ]
    },
    {
      "cell_type": "code",
      "metadata": {
        "id": "E36I41_iCmUD"
      },
      "source": [
        "total_df['Arrival_Hour']=total_df['Arrival_Time'].str.split(':').str[0]\n",
        "total_df['Arrival_Minute']=total_df['Arrival_Time'].str.split(':').str[1]"
      ],
      "execution_count": 40,
      "outputs": []
    },
    {
      "cell_type": "code",
      "metadata": {
        "id": "2d3WwPi7DRcQ"
      },
      "source": [
        "total_df['Arrival_Hour']=total_df['Arrival_Hour'].astype(int)\n",
        "total_df['Arrival_Minute']=total_df['Arrival_Minute'].astype(int)"
      ],
      "execution_count": 41,
      "outputs": []
    },
    {
      "cell_type": "code",
      "metadata": {
        "id": "O2oRtBcHESGU"
      },
      "source": [
        "total_df=total_df.drop(['Arrival_Time'],axis=1)"
      ],
      "execution_count": 42,
      "outputs": []
    },
    {
      "cell_type": "code",
      "metadata": {
        "colab": {
          "base_uri": "https://localhost:8080/",
          "height": 598
        },
        "id": "THnCiR4yE8-B",
        "outputId": "187b56ae-6e93-4802-e1dc-f6da4dfdc0e6"
      },
      "source": [
        "total_df.head()"
      ],
      "execution_count": 43,
      "outputs": [
        {
          "output_type": "execute_result",
          "data": {
            "text/html": [
              "<div>\n",
              "<style scoped>\n",
              "    .dataframe tbody tr th:only-of-type {\n",
              "        vertical-align: middle;\n",
              "    }\n",
              "\n",
              "    .dataframe tbody tr th {\n",
              "        vertical-align: top;\n",
              "    }\n",
              "\n",
              "    .dataframe thead th {\n",
              "        text-align: right;\n",
              "    }\n",
              "</style>\n",
              "<table border=\"1\" class=\"dataframe\">\n",
              "  <thead>\n",
              "    <tr style=\"text-align: right;\">\n",
              "      <th></th>\n",
              "      <th>Airline</th>\n",
              "      <th>Source</th>\n",
              "      <th>Destination</th>\n",
              "      <th>Route</th>\n",
              "      <th>Dep_Time</th>\n",
              "      <th>Duration</th>\n",
              "      <th>Additional_Info</th>\n",
              "      <th>Price</th>\n",
              "      <th>Date</th>\n",
              "      <th>Month</th>\n",
              "      <th>Year</th>\n",
              "      <th>Stops</th>\n",
              "      <th>Arrival_Hour</th>\n",
              "      <th>Arrival_Minute</th>\n",
              "    </tr>\n",
              "  </thead>\n",
              "  <tbody>\n",
              "    <tr>\n",
              "      <th>0</th>\n",
              "      <td>IndiGo</td>\n",
              "      <td>Banglore</td>\n",
              "      <td>New Delhi</td>\n",
              "      <td>BLR → DEL</td>\n",
              "      <td>22:20</td>\n",
              "      <td>2h 50m</td>\n",
              "      <td>No info</td>\n",
              "      <td>3897.0</td>\n",
              "      <td>24</td>\n",
              "      <td>3</td>\n",
              "      <td>2019</td>\n",
              "      <td>0</td>\n",
              "      <td>1</td>\n",
              "      <td>10</td>\n",
              "    </tr>\n",
              "    <tr>\n",
              "      <th>1</th>\n",
              "      <td>Air India</td>\n",
              "      <td>Kolkata</td>\n",
              "      <td>Banglore</td>\n",
              "      <td>CCU → IXR → BBI → BLR</td>\n",
              "      <td>05:50</td>\n",
              "      <td>7h 25m</td>\n",
              "      <td>No info</td>\n",
              "      <td>7662.0</td>\n",
              "      <td>1</td>\n",
              "      <td>5</td>\n",
              "      <td>2019</td>\n",
              "      <td>2</td>\n",
              "      <td>13</td>\n",
              "      <td>15</td>\n",
              "    </tr>\n",
              "    <tr>\n",
              "      <th>2</th>\n",
              "      <td>Jet Airways</td>\n",
              "      <td>Delhi</td>\n",
              "      <td>Cochin</td>\n",
              "      <td>DEL → LKO → BOM → COK</td>\n",
              "      <td>09:25</td>\n",
              "      <td>19h</td>\n",
              "      <td>No info</td>\n",
              "      <td>13882.0</td>\n",
              "      <td>9</td>\n",
              "      <td>6</td>\n",
              "      <td>2019</td>\n",
              "      <td>2</td>\n",
              "      <td>4</td>\n",
              "      <td>25</td>\n",
              "    </tr>\n",
              "    <tr>\n",
              "      <th>3</th>\n",
              "      <td>IndiGo</td>\n",
              "      <td>Kolkata</td>\n",
              "      <td>Banglore</td>\n",
              "      <td>CCU → NAG → BLR</td>\n",
              "      <td>18:05</td>\n",
              "      <td>5h 25m</td>\n",
              "      <td>No info</td>\n",
              "      <td>6218.0</td>\n",
              "      <td>12</td>\n",
              "      <td>5</td>\n",
              "      <td>2019</td>\n",
              "      <td>1</td>\n",
              "      <td>23</td>\n",
              "      <td>30</td>\n",
              "    </tr>\n",
              "    <tr>\n",
              "      <th>4</th>\n",
              "      <td>IndiGo</td>\n",
              "      <td>Banglore</td>\n",
              "      <td>New Delhi</td>\n",
              "      <td>BLR → NAG → DEL</td>\n",
              "      <td>16:50</td>\n",
              "      <td>4h 45m</td>\n",
              "      <td>No info</td>\n",
              "      <td>13302.0</td>\n",
              "      <td>1</td>\n",
              "      <td>3</td>\n",
              "      <td>2019</td>\n",
              "      <td>1</td>\n",
              "      <td>21</td>\n",
              "      <td>35</td>\n",
              "    </tr>\n",
              "  </tbody>\n",
              "</table>\n",
              "</div>"
            ],
            "text/plain": [
              "       Airline    Source Destination  ... Stops Arrival_Hour Arrival_Minute\n",
              "0       IndiGo  Banglore   New Delhi  ...     0            1             10\n",
              "1    Air India   Kolkata    Banglore  ...     2           13             15\n",
              "2  Jet Airways     Delhi      Cochin  ...     2            4             25\n",
              "3       IndiGo   Kolkata    Banglore  ...     1           23             30\n",
              "4       IndiGo  Banglore   New Delhi  ...     1           21             35\n",
              "\n",
              "[5 rows x 14 columns]"
            ]
          },
          "metadata": {},
          "execution_count": 43
        }
      ]
    },
    {
      "cell_type": "code",
      "metadata": {
        "id": "uIsRQHEaFAdg"
      },
      "source": [
        "total_df['Departure_Hour']=total_df['Dep_Time'].str.split(':').str[0]\n",
        "total_df['Departure_Minute']=total_df['Dep_Time'].str.split(':').str[1]"
      ],
      "execution_count": 44,
      "outputs": []
    },
    {
      "cell_type": "code",
      "metadata": {
        "id": "tipMmdlDFkDq"
      },
      "source": [
        "total_df['Departure_Hour']=total_df['Departure_Hour'].astype(int)\n",
        "total_df['Departure_Minute']=total_df['Departure_Minute'].astype(int)\n",
        "total_df=total_df.drop(['Dep_Time'],axis=1)"
      ],
      "execution_count": 45,
      "outputs": []
    },
    {
      "cell_type": "code",
      "metadata": {
        "colab": {
          "base_uri": "https://localhost:8080/",
          "height": 598
        },
        "id": "g4sjNnFpGG33",
        "outputId": "aedbc7ee-3044-4e73-8c20-d800ffbe00f9"
      },
      "source": [
        "total_df.head()"
      ],
      "execution_count": 46,
      "outputs": [
        {
          "output_type": "execute_result",
          "data": {
            "text/html": [
              "<div>\n",
              "<style scoped>\n",
              "    .dataframe tbody tr th:only-of-type {\n",
              "        vertical-align: middle;\n",
              "    }\n",
              "\n",
              "    .dataframe tbody tr th {\n",
              "        vertical-align: top;\n",
              "    }\n",
              "\n",
              "    .dataframe thead th {\n",
              "        text-align: right;\n",
              "    }\n",
              "</style>\n",
              "<table border=\"1\" class=\"dataframe\">\n",
              "  <thead>\n",
              "    <tr style=\"text-align: right;\">\n",
              "      <th></th>\n",
              "      <th>Airline</th>\n",
              "      <th>Source</th>\n",
              "      <th>Destination</th>\n",
              "      <th>Route</th>\n",
              "      <th>Duration</th>\n",
              "      <th>Additional_Info</th>\n",
              "      <th>Price</th>\n",
              "      <th>Date</th>\n",
              "      <th>Month</th>\n",
              "      <th>Year</th>\n",
              "      <th>Stops</th>\n",
              "      <th>Arrival_Hour</th>\n",
              "      <th>Arrival_Minute</th>\n",
              "      <th>Departure_Hour</th>\n",
              "      <th>Departure_Minute</th>\n",
              "    </tr>\n",
              "  </thead>\n",
              "  <tbody>\n",
              "    <tr>\n",
              "      <th>0</th>\n",
              "      <td>IndiGo</td>\n",
              "      <td>Banglore</td>\n",
              "      <td>New Delhi</td>\n",
              "      <td>BLR → DEL</td>\n",
              "      <td>2h 50m</td>\n",
              "      <td>No info</td>\n",
              "      <td>3897.0</td>\n",
              "      <td>24</td>\n",
              "      <td>3</td>\n",
              "      <td>2019</td>\n",
              "      <td>0</td>\n",
              "      <td>1</td>\n",
              "      <td>10</td>\n",
              "      <td>22</td>\n",
              "      <td>20</td>\n",
              "    </tr>\n",
              "    <tr>\n",
              "      <th>1</th>\n",
              "      <td>Air India</td>\n",
              "      <td>Kolkata</td>\n",
              "      <td>Banglore</td>\n",
              "      <td>CCU → IXR → BBI → BLR</td>\n",
              "      <td>7h 25m</td>\n",
              "      <td>No info</td>\n",
              "      <td>7662.0</td>\n",
              "      <td>1</td>\n",
              "      <td>5</td>\n",
              "      <td>2019</td>\n",
              "      <td>2</td>\n",
              "      <td>13</td>\n",
              "      <td>15</td>\n",
              "      <td>5</td>\n",
              "      <td>50</td>\n",
              "    </tr>\n",
              "    <tr>\n",
              "      <th>2</th>\n",
              "      <td>Jet Airways</td>\n",
              "      <td>Delhi</td>\n",
              "      <td>Cochin</td>\n",
              "      <td>DEL → LKO → BOM → COK</td>\n",
              "      <td>19h</td>\n",
              "      <td>No info</td>\n",
              "      <td>13882.0</td>\n",
              "      <td>9</td>\n",
              "      <td>6</td>\n",
              "      <td>2019</td>\n",
              "      <td>2</td>\n",
              "      <td>4</td>\n",
              "      <td>25</td>\n",
              "      <td>9</td>\n",
              "      <td>25</td>\n",
              "    </tr>\n",
              "    <tr>\n",
              "      <th>3</th>\n",
              "      <td>IndiGo</td>\n",
              "      <td>Kolkata</td>\n",
              "      <td>Banglore</td>\n",
              "      <td>CCU → NAG → BLR</td>\n",
              "      <td>5h 25m</td>\n",
              "      <td>No info</td>\n",
              "      <td>6218.0</td>\n",
              "      <td>12</td>\n",
              "      <td>5</td>\n",
              "      <td>2019</td>\n",
              "      <td>1</td>\n",
              "      <td>23</td>\n",
              "      <td>30</td>\n",
              "      <td>18</td>\n",
              "      <td>5</td>\n",
              "    </tr>\n",
              "    <tr>\n",
              "      <th>4</th>\n",
              "      <td>IndiGo</td>\n",
              "      <td>Banglore</td>\n",
              "      <td>New Delhi</td>\n",
              "      <td>BLR → NAG → DEL</td>\n",
              "      <td>4h 45m</td>\n",
              "      <td>No info</td>\n",
              "      <td>13302.0</td>\n",
              "      <td>1</td>\n",
              "      <td>3</td>\n",
              "      <td>2019</td>\n",
              "      <td>1</td>\n",
              "      <td>21</td>\n",
              "      <td>35</td>\n",
              "      <td>16</td>\n",
              "      <td>50</td>\n",
              "    </tr>\n",
              "  </tbody>\n",
              "</table>\n",
              "</div>"
            ],
            "text/plain": [
              "       Airline    Source  ... Departure_Hour Departure_Minute\n",
              "0       IndiGo  Banglore  ...             22               20\n",
              "1    Air India   Kolkata  ...              5               50\n",
              "2  Jet Airways     Delhi  ...              9               25\n",
              "3       IndiGo   Kolkata  ...             18                5\n",
              "4       IndiGo  Banglore  ...             16               50\n",
              "\n",
              "[5 rows x 15 columns]"
            ]
          },
          "metadata": {},
          "execution_count": 46
        }
      ]
    },
    {
      "cell_type": "markdown",
      "metadata": {
        "id": "GWlQkXnBGS7u"
      },
      "source": [
        "# Lets Devide the route in different columns"
      ]
    },
    {
      "cell_type": "code",
      "metadata": {
        "id": "NxAfhqCsGYZ2"
      },
      "source": [
        "total_df['Route_1']=total_df['Route'].str.split(' ').str[0]\n",
        "total_df['Route_2']=total_df['Route'].str.split(' ').str[1]\n",
        "total_df['Route_3']=total_df['Route'].str.split(' ').str[2]\n",
        "total_df['Route_4']=total_df['Route'].str.split(' ').str[3]\n",
        "total_df['Route_5']=total_df['Route'].str.split(' ').str[4]"
      ],
      "execution_count": 47,
      "outputs": []
    },
    {
      "cell_type": "code",
      "metadata": {
        "id": "zw3KoQPVHcig"
      },
      "source": [
        "total_df['Route_1'].fillna('None',inplace=True)\n",
        "total_df['Route_2'].fillna('None',inplace=True)\n",
        "total_df['Route_3'].fillna('None',inplace=True)\n",
        "total_df['Route_4'].fillna('None',inplace=True)\n",
        "total_df['Route_5'].fillna('None',inplace=True)"
      ],
      "execution_count": 48,
      "outputs": []
    },
    {
      "cell_type": "code",
      "metadata": {
        "colab": {
          "base_uri": "https://localhost:8080/",
          "height": 490
        },
        "id": "a7M860lbIive",
        "outputId": "4ec112fb-c960-44fe-b4d4-a9d8b9426af7"
      },
      "source": [
        "total_df.drop(['Route'],axis=1)\n"
      ],
      "execution_count": 49,
      "outputs": [
        {
          "output_type": "execute_result",
          "data": {
            "text/html": [
              "<div>\n",
              "<style scoped>\n",
              "    .dataframe tbody tr th:only-of-type {\n",
              "        vertical-align: middle;\n",
              "    }\n",
              "\n",
              "    .dataframe tbody tr th {\n",
              "        vertical-align: top;\n",
              "    }\n",
              "\n",
              "    .dataframe thead th {\n",
              "        text-align: right;\n",
              "    }\n",
              "</style>\n",
              "<table border=\"1\" class=\"dataframe\">\n",
              "  <thead>\n",
              "    <tr style=\"text-align: right;\">\n",
              "      <th></th>\n",
              "      <th>Airline</th>\n",
              "      <th>Source</th>\n",
              "      <th>Destination</th>\n",
              "      <th>Duration</th>\n",
              "      <th>Additional_Info</th>\n",
              "      <th>Price</th>\n",
              "      <th>Date</th>\n",
              "      <th>Month</th>\n",
              "      <th>Year</th>\n",
              "      <th>Stops</th>\n",
              "      <th>Arrival_Hour</th>\n",
              "      <th>Arrival_Minute</th>\n",
              "      <th>Departure_Hour</th>\n",
              "      <th>Departure_Minute</th>\n",
              "      <th>Route_1</th>\n",
              "      <th>Route_2</th>\n",
              "      <th>Route_3</th>\n",
              "      <th>Route_4</th>\n",
              "      <th>Route_5</th>\n",
              "    </tr>\n",
              "  </thead>\n",
              "  <tbody>\n",
              "    <tr>\n",
              "      <th>0</th>\n",
              "      <td>IndiGo</td>\n",
              "      <td>Banglore</td>\n",
              "      <td>New Delhi</td>\n",
              "      <td>2h 50m</td>\n",
              "      <td>No info</td>\n",
              "      <td>3897.0</td>\n",
              "      <td>24</td>\n",
              "      <td>3</td>\n",
              "      <td>2019</td>\n",
              "      <td>0</td>\n",
              "      <td>1</td>\n",
              "      <td>10</td>\n",
              "      <td>22</td>\n",
              "      <td>20</td>\n",
              "      <td>BLR</td>\n",
              "      <td>→</td>\n",
              "      <td>DEL</td>\n",
              "      <td>None</td>\n",
              "      <td>None</td>\n",
              "    </tr>\n",
              "    <tr>\n",
              "      <th>1</th>\n",
              "      <td>Air India</td>\n",
              "      <td>Kolkata</td>\n",
              "      <td>Banglore</td>\n",
              "      <td>7h 25m</td>\n",
              "      <td>No info</td>\n",
              "      <td>7662.0</td>\n",
              "      <td>1</td>\n",
              "      <td>5</td>\n",
              "      <td>2019</td>\n",
              "      <td>2</td>\n",
              "      <td>13</td>\n",
              "      <td>15</td>\n",
              "      <td>5</td>\n",
              "      <td>50</td>\n",
              "      <td>CCU</td>\n",
              "      <td>→</td>\n",
              "      <td>IXR</td>\n",
              "      <td>→</td>\n",
              "      <td>BBI</td>\n",
              "    </tr>\n",
              "    <tr>\n",
              "      <th>2</th>\n",
              "      <td>Jet Airways</td>\n",
              "      <td>Delhi</td>\n",
              "      <td>Cochin</td>\n",
              "      <td>19h</td>\n",
              "      <td>No info</td>\n",
              "      <td>13882.0</td>\n",
              "      <td>9</td>\n",
              "      <td>6</td>\n",
              "      <td>2019</td>\n",
              "      <td>2</td>\n",
              "      <td>4</td>\n",
              "      <td>25</td>\n",
              "      <td>9</td>\n",
              "      <td>25</td>\n",
              "      <td>DEL</td>\n",
              "      <td>→</td>\n",
              "      <td>LKO</td>\n",
              "      <td>→</td>\n",
              "      <td>BOM</td>\n",
              "    </tr>\n",
              "    <tr>\n",
              "      <th>3</th>\n",
              "      <td>IndiGo</td>\n",
              "      <td>Kolkata</td>\n",
              "      <td>Banglore</td>\n",
              "      <td>5h 25m</td>\n",
              "      <td>No info</td>\n",
              "      <td>6218.0</td>\n",
              "      <td>12</td>\n",
              "      <td>5</td>\n",
              "      <td>2019</td>\n",
              "      <td>1</td>\n",
              "      <td>23</td>\n",
              "      <td>30</td>\n",
              "      <td>18</td>\n",
              "      <td>5</td>\n",
              "      <td>CCU</td>\n",
              "      <td>→</td>\n",
              "      <td>NAG</td>\n",
              "      <td>→</td>\n",
              "      <td>BLR</td>\n",
              "    </tr>\n",
              "    <tr>\n",
              "      <th>4</th>\n",
              "      <td>IndiGo</td>\n",
              "      <td>Banglore</td>\n",
              "      <td>New Delhi</td>\n",
              "      <td>4h 45m</td>\n",
              "      <td>No info</td>\n",
              "      <td>13302.0</td>\n",
              "      <td>1</td>\n",
              "      <td>3</td>\n",
              "      <td>2019</td>\n",
              "      <td>1</td>\n",
              "      <td>21</td>\n",
              "      <td>35</td>\n",
              "      <td>16</td>\n",
              "      <td>50</td>\n",
              "      <td>BLR</td>\n",
              "      <td>→</td>\n",
              "      <td>NAG</td>\n",
              "      <td>→</td>\n",
              "      <td>DEL</td>\n",
              "    </tr>\n",
              "    <tr>\n",
              "      <th>...</th>\n",
              "      <td>...</td>\n",
              "      <td>...</td>\n",
              "      <td>...</td>\n",
              "      <td>...</td>\n",
              "      <td>...</td>\n",
              "      <td>...</td>\n",
              "      <td>...</td>\n",
              "      <td>...</td>\n",
              "      <td>...</td>\n",
              "      <td>...</td>\n",
              "      <td>...</td>\n",
              "      <td>...</td>\n",
              "      <td>...</td>\n",
              "      <td>...</td>\n",
              "      <td>...</td>\n",
              "      <td>...</td>\n",
              "      <td>...</td>\n",
              "      <td>...</td>\n",
              "      <td>...</td>\n",
              "    </tr>\n",
              "    <tr>\n",
              "      <th>2666</th>\n",
              "      <td>Air India</td>\n",
              "      <td>Kolkata</td>\n",
              "      <td>Banglore</td>\n",
              "      <td>23h 55m</td>\n",
              "      <td>No info</td>\n",
              "      <td>NaN</td>\n",
              "      <td>6</td>\n",
              "      <td>6</td>\n",
              "      <td>2019</td>\n",
              "      <td>1</td>\n",
              "      <td>20</td>\n",
              "      <td>25</td>\n",
              "      <td>20</td>\n",
              "      <td>30</td>\n",
              "      <td>CCU</td>\n",
              "      <td>→</td>\n",
              "      <td>DEL</td>\n",
              "      <td>→</td>\n",
              "      <td>BLR</td>\n",
              "    </tr>\n",
              "    <tr>\n",
              "      <th>2667</th>\n",
              "      <td>IndiGo</td>\n",
              "      <td>Kolkata</td>\n",
              "      <td>Banglore</td>\n",
              "      <td>2h 35m</td>\n",
              "      <td>No info</td>\n",
              "      <td>NaN</td>\n",
              "      <td>27</td>\n",
              "      <td>3</td>\n",
              "      <td>2019</td>\n",
              "      <td>0</td>\n",
              "      <td>16</td>\n",
              "      <td>55</td>\n",
              "      <td>14</td>\n",
              "      <td>20</td>\n",
              "      <td>CCU</td>\n",
              "      <td>→</td>\n",
              "      <td>BLR</td>\n",
              "      <td>None</td>\n",
              "      <td>None</td>\n",
              "    </tr>\n",
              "    <tr>\n",
              "      <th>2668</th>\n",
              "      <td>Jet Airways</td>\n",
              "      <td>Delhi</td>\n",
              "      <td>Cochin</td>\n",
              "      <td>6h 35m</td>\n",
              "      <td>No info</td>\n",
              "      <td>NaN</td>\n",
              "      <td>6</td>\n",
              "      <td>3</td>\n",
              "      <td>2019</td>\n",
              "      <td>1</td>\n",
              "      <td>4</td>\n",
              "      <td>25</td>\n",
              "      <td>21</td>\n",
              "      <td>50</td>\n",
              "      <td>DEL</td>\n",
              "      <td>→</td>\n",
              "      <td>BOM</td>\n",
              "      <td>→</td>\n",
              "      <td>COK</td>\n",
              "    </tr>\n",
              "    <tr>\n",
              "      <th>2669</th>\n",
              "      <td>Air India</td>\n",
              "      <td>Delhi</td>\n",
              "      <td>Cochin</td>\n",
              "      <td>15h 15m</td>\n",
              "      <td>No info</td>\n",
              "      <td>NaN</td>\n",
              "      <td>6</td>\n",
              "      <td>3</td>\n",
              "      <td>2019</td>\n",
              "      <td>1</td>\n",
              "      <td>19</td>\n",
              "      <td>15</td>\n",
              "      <td>4</td>\n",
              "      <td>0</td>\n",
              "      <td>DEL</td>\n",
              "      <td>→</td>\n",
              "      <td>BOM</td>\n",
              "      <td>→</td>\n",
              "      <td>COK</td>\n",
              "    </tr>\n",
              "    <tr>\n",
              "      <th>2670</th>\n",
              "      <td>Multiple carriers</td>\n",
              "      <td>Delhi</td>\n",
              "      <td>Cochin</td>\n",
              "      <td>14h 20m</td>\n",
              "      <td>No info</td>\n",
              "      <td>NaN</td>\n",
              "      <td>15</td>\n",
              "      <td>6</td>\n",
              "      <td>2019</td>\n",
              "      <td>1</td>\n",
              "      <td>19</td>\n",
              "      <td>15</td>\n",
              "      <td>4</td>\n",
              "      <td>55</td>\n",
              "      <td>DEL</td>\n",
              "      <td>→</td>\n",
              "      <td>BOM</td>\n",
              "      <td>→</td>\n",
              "      <td>COK</td>\n",
              "    </tr>\n",
              "  </tbody>\n",
              "</table>\n",
              "<p>13354 rows × 19 columns</p>\n",
              "</div>"
            ],
            "text/plain": [
              "                Airline    Source Destination  ... Route_3 Route_4  Route_5\n",
              "0                IndiGo  Banglore   New Delhi  ...     DEL    None     None\n",
              "1             Air India   Kolkata    Banglore  ...     IXR       →      BBI\n",
              "2           Jet Airways     Delhi      Cochin  ...     LKO       →      BOM\n",
              "3                IndiGo   Kolkata    Banglore  ...     NAG       →      BLR\n",
              "4                IndiGo  Banglore   New Delhi  ...     NAG       →      DEL\n",
              "...                 ...       ...         ...  ...     ...     ...      ...\n",
              "2666          Air India   Kolkata    Banglore  ...     DEL       →      BLR\n",
              "2667             IndiGo   Kolkata    Banglore  ...     BLR    None     None\n",
              "2668        Jet Airways     Delhi      Cochin  ...     BOM       →      COK\n",
              "2669          Air India     Delhi      Cochin  ...     BOM       →      COK\n",
              "2670  Multiple carriers     Delhi      Cochin  ...     BOM       →      COK\n",
              "\n",
              "[13354 rows x 19 columns]"
            ]
          },
          "metadata": {},
          "execution_count": 49
        }
      ]
    },
    {
      "cell_type": "code",
      "metadata": {
        "colab": {
          "base_uri": "https://localhost:8080/",
          "height": 1000
        },
        "id": "0sbpXuBmLevm",
        "outputId": "399d4d8a-9c1a-4c57-a3da-e1e7e25706dc"
      },
      "source": [
        "total_df.drop(['Duration'],axis=1)"
      ],
      "execution_count": 50,
      "outputs": [
        {
          "output_type": "execute_result",
          "data": {
            "text/html": [
              "<div>\n",
              "<style scoped>\n",
              "    .dataframe tbody tr th:only-of-type {\n",
              "        vertical-align: middle;\n",
              "    }\n",
              "\n",
              "    .dataframe tbody tr th {\n",
              "        vertical-align: top;\n",
              "    }\n",
              "\n",
              "    .dataframe thead th {\n",
              "        text-align: right;\n",
              "    }\n",
              "</style>\n",
              "<table border=\"1\" class=\"dataframe\">\n",
              "  <thead>\n",
              "    <tr style=\"text-align: right;\">\n",
              "      <th></th>\n",
              "      <th>Airline</th>\n",
              "      <th>Source</th>\n",
              "      <th>Destination</th>\n",
              "      <th>Route</th>\n",
              "      <th>Additional_Info</th>\n",
              "      <th>Price</th>\n",
              "      <th>Date</th>\n",
              "      <th>Month</th>\n",
              "      <th>Year</th>\n",
              "      <th>Stops</th>\n",
              "      <th>Arrival_Hour</th>\n",
              "      <th>Arrival_Minute</th>\n",
              "      <th>Departure_Hour</th>\n",
              "      <th>Departure_Minute</th>\n",
              "      <th>Route_1</th>\n",
              "      <th>Route_2</th>\n",
              "      <th>Route_3</th>\n",
              "      <th>Route_4</th>\n",
              "      <th>Route_5</th>\n",
              "    </tr>\n",
              "  </thead>\n",
              "  <tbody>\n",
              "    <tr>\n",
              "      <th>0</th>\n",
              "      <td>IndiGo</td>\n",
              "      <td>Banglore</td>\n",
              "      <td>New Delhi</td>\n",
              "      <td>BLR → DEL</td>\n",
              "      <td>No info</td>\n",
              "      <td>3897.0</td>\n",
              "      <td>24</td>\n",
              "      <td>3</td>\n",
              "      <td>2019</td>\n",
              "      <td>0</td>\n",
              "      <td>1</td>\n",
              "      <td>10</td>\n",
              "      <td>22</td>\n",
              "      <td>20</td>\n",
              "      <td>BLR</td>\n",
              "      <td>→</td>\n",
              "      <td>DEL</td>\n",
              "      <td>None</td>\n",
              "      <td>None</td>\n",
              "    </tr>\n",
              "    <tr>\n",
              "      <th>1</th>\n",
              "      <td>Air India</td>\n",
              "      <td>Kolkata</td>\n",
              "      <td>Banglore</td>\n",
              "      <td>CCU → IXR → BBI → BLR</td>\n",
              "      <td>No info</td>\n",
              "      <td>7662.0</td>\n",
              "      <td>1</td>\n",
              "      <td>5</td>\n",
              "      <td>2019</td>\n",
              "      <td>2</td>\n",
              "      <td>13</td>\n",
              "      <td>15</td>\n",
              "      <td>5</td>\n",
              "      <td>50</td>\n",
              "      <td>CCU</td>\n",
              "      <td>→</td>\n",
              "      <td>IXR</td>\n",
              "      <td>→</td>\n",
              "      <td>BBI</td>\n",
              "    </tr>\n",
              "    <tr>\n",
              "      <th>2</th>\n",
              "      <td>Jet Airways</td>\n",
              "      <td>Delhi</td>\n",
              "      <td>Cochin</td>\n",
              "      <td>DEL → LKO → BOM → COK</td>\n",
              "      <td>No info</td>\n",
              "      <td>13882.0</td>\n",
              "      <td>9</td>\n",
              "      <td>6</td>\n",
              "      <td>2019</td>\n",
              "      <td>2</td>\n",
              "      <td>4</td>\n",
              "      <td>25</td>\n",
              "      <td>9</td>\n",
              "      <td>25</td>\n",
              "      <td>DEL</td>\n",
              "      <td>→</td>\n",
              "      <td>LKO</td>\n",
              "      <td>→</td>\n",
              "      <td>BOM</td>\n",
              "    </tr>\n",
              "    <tr>\n",
              "      <th>3</th>\n",
              "      <td>IndiGo</td>\n",
              "      <td>Kolkata</td>\n",
              "      <td>Banglore</td>\n",
              "      <td>CCU → NAG → BLR</td>\n",
              "      <td>No info</td>\n",
              "      <td>6218.0</td>\n",
              "      <td>12</td>\n",
              "      <td>5</td>\n",
              "      <td>2019</td>\n",
              "      <td>1</td>\n",
              "      <td>23</td>\n",
              "      <td>30</td>\n",
              "      <td>18</td>\n",
              "      <td>5</td>\n",
              "      <td>CCU</td>\n",
              "      <td>→</td>\n",
              "      <td>NAG</td>\n",
              "      <td>→</td>\n",
              "      <td>BLR</td>\n",
              "    </tr>\n",
              "    <tr>\n",
              "      <th>4</th>\n",
              "      <td>IndiGo</td>\n",
              "      <td>Banglore</td>\n",
              "      <td>New Delhi</td>\n",
              "      <td>BLR → NAG → DEL</td>\n",
              "      <td>No info</td>\n",
              "      <td>13302.0</td>\n",
              "      <td>1</td>\n",
              "      <td>3</td>\n",
              "      <td>2019</td>\n",
              "      <td>1</td>\n",
              "      <td>21</td>\n",
              "      <td>35</td>\n",
              "      <td>16</td>\n",
              "      <td>50</td>\n",
              "      <td>BLR</td>\n",
              "      <td>→</td>\n",
              "      <td>NAG</td>\n",
              "      <td>→</td>\n",
              "      <td>DEL</td>\n",
              "    </tr>\n",
              "    <tr>\n",
              "      <th>...</th>\n",
              "      <td>...</td>\n",
              "      <td>...</td>\n",
              "      <td>...</td>\n",
              "      <td>...</td>\n",
              "      <td>...</td>\n",
              "      <td>...</td>\n",
              "      <td>...</td>\n",
              "      <td>...</td>\n",
              "      <td>...</td>\n",
              "      <td>...</td>\n",
              "      <td>...</td>\n",
              "      <td>...</td>\n",
              "      <td>...</td>\n",
              "      <td>...</td>\n",
              "      <td>...</td>\n",
              "      <td>...</td>\n",
              "      <td>...</td>\n",
              "      <td>...</td>\n",
              "      <td>...</td>\n",
              "    </tr>\n",
              "    <tr>\n",
              "      <th>2666</th>\n",
              "      <td>Air India</td>\n",
              "      <td>Kolkata</td>\n",
              "      <td>Banglore</td>\n",
              "      <td>CCU → DEL → BLR</td>\n",
              "      <td>No info</td>\n",
              "      <td>NaN</td>\n",
              "      <td>6</td>\n",
              "      <td>6</td>\n",
              "      <td>2019</td>\n",
              "      <td>1</td>\n",
              "      <td>20</td>\n",
              "      <td>25</td>\n",
              "      <td>20</td>\n",
              "      <td>30</td>\n",
              "      <td>CCU</td>\n",
              "      <td>→</td>\n",
              "      <td>DEL</td>\n",
              "      <td>→</td>\n",
              "      <td>BLR</td>\n",
              "    </tr>\n",
              "    <tr>\n",
              "      <th>2667</th>\n",
              "      <td>IndiGo</td>\n",
              "      <td>Kolkata</td>\n",
              "      <td>Banglore</td>\n",
              "      <td>CCU → BLR</td>\n",
              "      <td>No info</td>\n",
              "      <td>NaN</td>\n",
              "      <td>27</td>\n",
              "      <td>3</td>\n",
              "      <td>2019</td>\n",
              "      <td>0</td>\n",
              "      <td>16</td>\n",
              "      <td>55</td>\n",
              "      <td>14</td>\n",
              "      <td>20</td>\n",
              "      <td>CCU</td>\n",
              "      <td>→</td>\n",
              "      <td>BLR</td>\n",
              "      <td>None</td>\n",
              "      <td>None</td>\n",
              "    </tr>\n",
              "    <tr>\n",
              "      <th>2668</th>\n",
              "      <td>Jet Airways</td>\n",
              "      <td>Delhi</td>\n",
              "      <td>Cochin</td>\n",
              "      <td>DEL → BOM → COK</td>\n",
              "      <td>No info</td>\n",
              "      <td>NaN</td>\n",
              "      <td>6</td>\n",
              "      <td>3</td>\n",
              "      <td>2019</td>\n",
              "      <td>1</td>\n",
              "      <td>4</td>\n",
              "      <td>25</td>\n",
              "      <td>21</td>\n",
              "      <td>50</td>\n",
              "      <td>DEL</td>\n",
              "      <td>→</td>\n",
              "      <td>BOM</td>\n",
              "      <td>→</td>\n",
              "      <td>COK</td>\n",
              "    </tr>\n",
              "    <tr>\n",
              "      <th>2669</th>\n",
              "      <td>Air India</td>\n",
              "      <td>Delhi</td>\n",
              "      <td>Cochin</td>\n",
              "      <td>DEL → BOM → COK</td>\n",
              "      <td>No info</td>\n",
              "      <td>NaN</td>\n",
              "      <td>6</td>\n",
              "      <td>3</td>\n",
              "      <td>2019</td>\n",
              "      <td>1</td>\n",
              "      <td>19</td>\n",
              "      <td>15</td>\n",
              "      <td>4</td>\n",
              "      <td>0</td>\n",
              "      <td>DEL</td>\n",
              "      <td>→</td>\n",
              "      <td>BOM</td>\n",
              "      <td>→</td>\n",
              "      <td>COK</td>\n",
              "    </tr>\n",
              "    <tr>\n",
              "      <th>2670</th>\n",
              "      <td>Multiple carriers</td>\n",
              "      <td>Delhi</td>\n",
              "      <td>Cochin</td>\n",
              "      <td>DEL → BOM → COK</td>\n",
              "      <td>No info</td>\n",
              "      <td>NaN</td>\n",
              "      <td>15</td>\n",
              "      <td>6</td>\n",
              "      <td>2019</td>\n",
              "      <td>1</td>\n",
              "      <td>19</td>\n",
              "      <td>15</td>\n",
              "      <td>4</td>\n",
              "      <td>55</td>\n",
              "      <td>DEL</td>\n",
              "      <td>→</td>\n",
              "      <td>BOM</td>\n",
              "      <td>→</td>\n",
              "      <td>COK</td>\n",
              "    </tr>\n",
              "  </tbody>\n",
              "</table>\n",
              "<p>13354 rows × 19 columns</p>\n",
              "</div>"
            ],
            "text/plain": [
              "                Airline    Source Destination  ... Route_3 Route_4  Route_5\n",
              "0                IndiGo  Banglore   New Delhi  ...     DEL    None     None\n",
              "1             Air India   Kolkata    Banglore  ...     IXR       →      BBI\n",
              "2           Jet Airways     Delhi      Cochin  ...     LKO       →      BOM\n",
              "3                IndiGo   Kolkata    Banglore  ...     NAG       →      BLR\n",
              "4                IndiGo  Banglore   New Delhi  ...     NAG       →      DEL\n",
              "...                 ...       ...         ...  ...     ...     ...      ...\n",
              "2666          Air India   Kolkata    Banglore  ...     DEL       →      BLR\n",
              "2667             IndiGo   Kolkata    Banglore  ...     BLR    None     None\n",
              "2668        Jet Airways     Delhi      Cochin  ...     BOM       →      COK\n",
              "2669          Air India     Delhi      Cochin  ...     BOM       →      COK\n",
              "2670  Multiple carriers     Delhi      Cochin  ...     BOM       →      COK\n",
              "\n",
              "[13354 rows x 19 columns]"
            ]
          },
          "metadata": {},
          "execution_count": 50
        }
      ]
    },
    {
      "cell_type": "code",
      "metadata": {
        "colab": {
          "base_uri": "https://localhost:8080/"
        },
        "id": "RxBbNimLJ4z1",
        "outputId": "f7b74aae-f40f-427c-b0d8-c91c4bd3e3bb"
      },
      "source": [
        "total_df.isnull().sum()"
      ],
      "execution_count": 51,
      "outputs": [
        {
          "output_type": "execute_result",
          "data": {
            "text/plain": [
              "Airline                0\n",
              "Source                 0\n",
              "Destination            0\n",
              "Route                  1\n",
              "Duration               0\n",
              "Additional_Info        0\n",
              "Price               2671\n",
              "Date                   0\n",
              "Month                  0\n",
              "Year                   0\n",
              "Stops                  0\n",
              "Arrival_Hour           0\n",
              "Arrival_Minute         0\n",
              "Departure_Hour         0\n",
              "Departure_Minute       0\n",
              "Route_1                0\n",
              "Route_2                0\n",
              "Route_3                0\n",
              "Route_4                0\n",
              "Route_5                0\n",
              "dtype: int64"
            ]
          },
          "metadata": {},
          "execution_count": 51
        }
      ]
    },
    {
      "cell_type": "markdown",
      "metadata": {
        "id": "zC-wXT_DKTSB"
      },
      "source": [
        "# We will deal with Price"
      ]
    },
    {
      "cell_type": "code",
      "metadata": {
        "id": "zrEPFMGHKXTX"
      },
      "source": [
        "total_df['Price'].fillna((total_df['Price'].mean()),inplace=True)"
      ],
      "execution_count": 52,
      "outputs": []
    },
    {
      "cell_type": "code",
      "metadata": {
        "colab": {
          "base_uri": "https://localhost:8080/"
        },
        "id": "ORvnslyGKwsw",
        "outputId": "400aacf4-7efb-47c7-d819-e98e14c2eb7f"
      },
      "source": [
        "total_df.isnull().sum()"
      ],
      "execution_count": 53,
      "outputs": [
        {
          "output_type": "execute_result",
          "data": {
            "text/plain": [
              "Airline             0\n",
              "Source              0\n",
              "Destination         0\n",
              "Route               1\n",
              "Duration            0\n",
              "Additional_Info     0\n",
              "Price               0\n",
              "Date                0\n",
              "Month               0\n",
              "Year                0\n",
              "Stops               0\n",
              "Arrival_Hour        0\n",
              "Arrival_Minute      0\n",
              "Departure_Hour      0\n",
              "Departure_Minute    0\n",
              "Route_1             0\n",
              "Route_2             0\n",
              "Route_3             0\n",
              "Route_4             0\n",
              "Route_5             0\n",
              "dtype: int64"
            ]
          },
          "metadata": {},
          "execution_count": 53
        }
      ]
    },
    {
      "cell_type": "code",
      "metadata": {
        "colab": {
          "base_uri": "https://localhost:8080/",
          "height": 598
        },
        "id": "CVjFGCpeK0ry",
        "outputId": "3ca5598a-23e9-4daf-86ea-3ed9ba916ba1"
      },
      "source": [
        "total_df.head()"
      ],
      "execution_count": 54,
      "outputs": [
        {
          "output_type": "execute_result",
          "data": {
            "text/html": [
              "<div>\n",
              "<style scoped>\n",
              "    .dataframe tbody tr th:only-of-type {\n",
              "        vertical-align: middle;\n",
              "    }\n",
              "\n",
              "    .dataframe tbody tr th {\n",
              "        vertical-align: top;\n",
              "    }\n",
              "\n",
              "    .dataframe thead th {\n",
              "        text-align: right;\n",
              "    }\n",
              "</style>\n",
              "<table border=\"1\" class=\"dataframe\">\n",
              "  <thead>\n",
              "    <tr style=\"text-align: right;\">\n",
              "      <th></th>\n",
              "      <th>Airline</th>\n",
              "      <th>Source</th>\n",
              "      <th>Destination</th>\n",
              "      <th>Route</th>\n",
              "      <th>Duration</th>\n",
              "      <th>Additional_Info</th>\n",
              "      <th>Price</th>\n",
              "      <th>Date</th>\n",
              "      <th>Month</th>\n",
              "      <th>Year</th>\n",
              "      <th>Stops</th>\n",
              "      <th>Arrival_Hour</th>\n",
              "      <th>Arrival_Minute</th>\n",
              "      <th>Departure_Hour</th>\n",
              "      <th>Departure_Minute</th>\n",
              "      <th>Route_1</th>\n",
              "      <th>Route_2</th>\n",
              "      <th>Route_3</th>\n",
              "      <th>Route_4</th>\n",
              "      <th>Route_5</th>\n",
              "    </tr>\n",
              "  </thead>\n",
              "  <tbody>\n",
              "    <tr>\n",
              "      <th>0</th>\n",
              "      <td>IndiGo</td>\n",
              "      <td>Banglore</td>\n",
              "      <td>New Delhi</td>\n",
              "      <td>BLR → DEL</td>\n",
              "      <td>2h 50m</td>\n",
              "      <td>No info</td>\n",
              "      <td>3897.0</td>\n",
              "      <td>24</td>\n",
              "      <td>3</td>\n",
              "      <td>2019</td>\n",
              "      <td>0</td>\n",
              "      <td>1</td>\n",
              "      <td>10</td>\n",
              "      <td>22</td>\n",
              "      <td>20</td>\n",
              "      <td>BLR</td>\n",
              "      <td>→</td>\n",
              "      <td>DEL</td>\n",
              "      <td>None</td>\n",
              "      <td>None</td>\n",
              "    </tr>\n",
              "    <tr>\n",
              "      <th>1</th>\n",
              "      <td>Air India</td>\n",
              "      <td>Kolkata</td>\n",
              "      <td>Banglore</td>\n",
              "      <td>CCU → IXR → BBI → BLR</td>\n",
              "      <td>7h 25m</td>\n",
              "      <td>No info</td>\n",
              "      <td>7662.0</td>\n",
              "      <td>1</td>\n",
              "      <td>5</td>\n",
              "      <td>2019</td>\n",
              "      <td>2</td>\n",
              "      <td>13</td>\n",
              "      <td>15</td>\n",
              "      <td>5</td>\n",
              "      <td>50</td>\n",
              "      <td>CCU</td>\n",
              "      <td>→</td>\n",
              "      <td>IXR</td>\n",
              "      <td>→</td>\n",
              "      <td>BBI</td>\n",
              "    </tr>\n",
              "    <tr>\n",
              "      <th>2</th>\n",
              "      <td>Jet Airways</td>\n",
              "      <td>Delhi</td>\n",
              "      <td>Cochin</td>\n",
              "      <td>DEL → LKO → BOM → COK</td>\n",
              "      <td>19h</td>\n",
              "      <td>No info</td>\n",
              "      <td>13882.0</td>\n",
              "      <td>9</td>\n",
              "      <td>6</td>\n",
              "      <td>2019</td>\n",
              "      <td>2</td>\n",
              "      <td>4</td>\n",
              "      <td>25</td>\n",
              "      <td>9</td>\n",
              "      <td>25</td>\n",
              "      <td>DEL</td>\n",
              "      <td>→</td>\n",
              "      <td>LKO</td>\n",
              "      <td>→</td>\n",
              "      <td>BOM</td>\n",
              "    </tr>\n",
              "    <tr>\n",
              "      <th>3</th>\n",
              "      <td>IndiGo</td>\n",
              "      <td>Kolkata</td>\n",
              "      <td>Banglore</td>\n",
              "      <td>CCU → NAG → BLR</td>\n",
              "      <td>5h 25m</td>\n",
              "      <td>No info</td>\n",
              "      <td>6218.0</td>\n",
              "      <td>12</td>\n",
              "      <td>5</td>\n",
              "      <td>2019</td>\n",
              "      <td>1</td>\n",
              "      <td>23</td>\n",
              "      <td>30</td>\n",
              "      <td>18</td>\n",
              "      <td>5</td>\n",
              "      <td>CCU</td>\n",
              "      <td>→</td>\n",
              "      <td>NAG</td>\n",
              "      <td>→</td>\n",
              "      <td>BLR</td>\n",
              "    </tr>\n",
              "    <tr>\n",
              "      <th>4</th>\n",
              "      <td>IndiGo</td>\n",
              "      <td>Banglore</td>\n",
              "      <td>New Delhi</td>\n",
              "      <td>BLR → NAG → DEL</td>\n",
              "      <td>4h 45m</td>\n",
              "      <td>No info</td>\n",
              "      <td>13302.0</td>\n",
              "      <td>1</td>\n",
              "      <td>3</td>\n",
              "      <td>2019</td>\n",
              "      <td>1</td>\n",
              "      <td>21</td>\n",
              "      <td>35</td>\n",
              "      <td>16</td>\n",
              "      <td>50</td>\n",
              "      <td>BLR</td>\n",
              "      <td>→</td>\n",
              "      <td>NAG</td>\n",
              "      <td>→</td>\n",
              "      <td>DEL</td>\n",
              "    </tr>\n",
              "  </tbody>\n",
              "</table>\n",
              "</div>"
            ],
            "text/plain": [
              "       Airline    Source Destination  ... Route_3 Route_4 Route_5\n",
              "0       IndiGo  Banglore   New Delhi  ...     DEL    None    None\n",
              "1    Air India   Kolkata    Banglore  ...     IXR       →     BBI\n",
              "2  Jet Airways     Delhi      Cochin  ...     LKO       →     BOM\n",
              "3       IndiGo   Kolkata    Banglore  ...     NAG       →     BLR\n",
              "4       IndiGo  Banglore   New Delhi  ...     NAG       →     DEL\n",
              "\n",
              "[5 rows x 20 columns]"
            ]
          },
          "metadata": {},
          "execution_count": 54
        }
      ]
    },
    {
      "cell_type": "markdown",
      "metadata": {
        "id": "0D7DklqbZwCn"
      },
      "source": [
        "# Lets us now convert all these variable in the form our model can understand,here we will use label encoder"
      ]
    },
    {
      "cell_type": "code",
      "metadata": {
        "id": "WlzQHXOyaDJv"
      },
      "source": [
        "from sklearn.preprocessing import LabelEncoder"
      ],
      "execution_count": 55,
      "outputs": []
    },
    {
      "cell_type": "code",
      "metadata": {
        "id": "XBA4Lu2ZaH7K"
      },
      "source": [
        "le=LabelEncoder()"
      ],
      "execution_count": 56,
      "outputs": []
    },
    {
      "cell_type": "code",
      "metadata": {
        "id": "AWz_RRsjaNiA"
      },
      "source": [
        "total_df['Airline']=le.fit_transform(total_df['Airline'])"
      ],
      "execution_count": 57,
      "outputs": []
    },
    {
      "cell_type": "code",
      "metadata": {
        "id": "BZIa482SadxJ"
      },
      "source": [
        "total_df['Source']=le.fit_transform(total_df['Source'])"
      ],
      "execution_count": 58,
      "outputs": []
    },
    {
      "cell_type": "code",
      "metadata": {
        "id": "Nu1LJPZ-aq55"
      },
      "source": [
        "total_df['Destination']=le.fit_transform(total_df['Destination'])"
      ],
      "execution_count": 59,
      "outputs": []
    },
    {
      "cell_type": "code",
      "metadata": {
        "id": "bzJoyC5-a2DK"
      },
      "source": [
        "total_df['Additional_Info']=le.fit_transform(total_df['Additional_Info'])"
      ],
      "execution_count": 60,
      "outputs": []
    },
    {
      "cell_type": "code",
      "metadata": {
        "id": "m--83rf5bd_E"
      },
      "source": [
        "total_df['Route_1']=le.fit_transform(total_df['Route_1'])"
      ],
      "execution_count": 61,
      "outputs": []
    },
    {
      "cell_type": "code",
      "metadata": {
        "id": "utHWUtHzbsj6"
      },
      "source": [
        "total_df['Route_2']=le.fit_transform(total_df['Route_2'])"
      ],
      "execution_count": 62,
      "outputs": []
    },
    {
      "cell_type": "code",
      "metadata": {
        "id": "246NhTAAb2BD"
      },
      "source": [
        "total_df['Route_3']=le.fit_transform(total_df['Route_3'])"
      ],
      "execution_count": 63,
      "outputs": []
    },
    {
      "cell_type": "code",
      "metadata": {
        "id": "OzMbrRMPcC_a"
      },
      "source": [
        "total_df['Route_4']=le.fit_transform(total_df['Route_4'])"
      ],
      "execution_count": 64,
      "outputs": []
    },
    {
      "cell_type": "code",
      "metadata": {
        "id": "xudPI5H9cLxN"
      },
      "source": [
        "total_df['Route_5']=le.fit_transform(total_df['Route_5'])"
      ],
      "execution_count": 65,
      "outputs": []
    },
    {
      "cell_type": "code",
      "metadata": {
        "colab": {
          "base_uri": "https://localhost:8080/",
          "height": 598
        },
        "id": "0uyGUaHgcUcf",
        "outputId": "082e8bee-49e4-4457-cc20-f2c3878b1991"
      },
      "source": [
        "total_df.head()"
      ],
      "execution_count": 66,
      "outputs": [
        {
          "output_type": "execute_result",
          "data": {
            "text/html": [
              "<div>\n",
              "<style scoped>\n",
              "    .dataframe tbody tr th:only-of-type {\n",
              "        vertical-align: middle;\n",
              "    }\n",
              "\n",
              "    .dataframe tbody tr th {\n",
              "        vertical-align: top;\n",
              "    }\n",
              "\n",
              "    .dataframe thead th {\n",
              "        text-align: right;\n",
              "    }\n",
              "</style>\n",
              "<table border=\"1\" class=\"dataframe\">\n",
              "  <thead>\n",
              "    <tr style=\"text-align: right;\">\n",
              "      <th></th>\n",
              "      <th>Airline</th>\n",
              "      <th>Source</th>\n",
              "      <th>Destination</th>\n",
              "      <th>Route</th>\n",
              "      <th>Duration</th>\n",
              "      <th>Additional_Info</th>\n",
              "      <th>Price</th>\n",
              "      <th>Date</th>\n",
              "      <th>Month</th>\n",
              "      <th>Year</th>\n",
              "      <th>Stops</th>\n",
              "      <th>Arrival_Hour</th>\n",
              "      <th>Arrival_Minute</th>\n",
              "      <th>Departure_Hour</th>\n",
              "      <th>Departure_Minute</th>\n",
              "      <th>Route_1</th>\n",
              "      <th>Route_2</th>\n",
              "      <th>Route_3</th>\n",
              "      <th>Route_4</th>\n",
              "      <th>Route_5</th>\n",
              "    </tr>\n",
              "  </thead>\n",
              "  <tbody>\n",
              "    <tr>\n",
              "      <th>0</th>\n",
              "      <td>3</td>\n",
              "      <td>0</td>\n",
              "      <td>5</td>\n",
              "      <td>BLR → DEL</td>\n",
              "      <td>2h 50m</td>\n",
              "      <td>8</td>\n",
              "      <td>3897.0</td>\n",
              "      <td>24</td>\n",
              "      <td>3</td>\n",
              "      <td>2019</td>\n",
              "      <td>0</td>\n",
              "      <td>1</td>\n",
              "      <td>10</td>\n",
              "      <td>22</td>\n",
              "      <td>20</td>\n",
              "      <td>0</td>\n",
              "      <td>1</td>\n",
              "      <td>10</td>\n",
              "      <td>0</td>\n",
              "      <td>21</td>\n",
              "    </tr>\n",
              "    <tr>\n",
              "      <th>1</th>\n",
              "      <td>1</td>\n",
              "      <td>3</td>\n",
              "      <td>0</td>\n",
              "      <td>CCU → IXR → BBI → BLR</td>\n",
              "      <td>7h 25m</td>\n",
              "      <td>8</td>\n",
              "      <td>7662.0</td>\n",
              "      <td>1</td>\n",
              "      <td>5</td>\n",
              "      <td>2019</td>\n",
              "      <td>2</td>\n",
              "      <td>13</td>\n",
              "      <td>15</td>\n",
              "      <td>5</td>\n",
              "      <td>50</td>\n",
              "      <td>2</td>\n",
              "      <td>1</td>\n",
              "      <td>20</td>\n",
              "      <td>1</td>\n",
              "      <td>1</td>\n",
              "    </tr>\n",
              "    <tr>\n",
              "      <th>2</th>\n",
              "      <td>4</td>\n",
              "      <td>2</td>\n",
              "      <td>1</td>\n",
              "      <td>DEL → LKO → BOM → COK</td>\n",
              "      <td>19h</td>\n",
              "      <td>8</td>\n",
              "      <td>13882.0</td>\n",
              "      <td>9</td>\n",
              "      <td>6</td>\n",
              "      <td>2019</td>\n",
              "      <td>2</td>\n",
              "      <td>4</td>\n",
              "      <td>25</td>\n",
              "      <td>9</td>\n",
              "      <td>25</td>\n",
              "      <td>3</td>\n",
              "      <td>1</td>\n",
              "      <td>27</td>\n",
              "      <td>1</td>\n",
              "      <td>4</td>\n",
              "    </tr>\n",
              "    <tr>\n",
              "      <th>3</th>\n",
              "      <td>3</td>\n",
              "      <td>3</td>\n",
              "      <td>0</td>\n",
              "      <td>CCU → NAG → BLR</td>\n",
              "      <td>5h 25m</td>\n",
              "      <td>8</td>\n",
              "      <td>6218.0</td>\n",
              "      <td>12</td>\n",
              "      <td>5</td>\n",
              "      <td>2019</td>\n",
              "      <td>1</td>\n",
              "      <td>23</td>\n",
              "      <td>30</td>\n",
              "      <td>18</td>\n",
              "      <td>5</td>\n",
              "      <td>2</td>\n",
              "      <td>1</td>\n",
              "      <td>29</td>\n",
              "      <td>1</td>\n",
              "      <td>3</td>\n",
              "    </tr>\n",
              "    <tr>\n",
              "      <th>4</th>\n",
              "      <td>3</td>\n",
              "      <td>0</td>\n",
              "      <td>5</td>\n",
              "      <td>BLR → NAG → DEL</td>\n",
              "      <td>4h 45m</td>\n",
              "      <td>8</td>\n",
              "      <td>13302.0</td>\n",
              "      <td>1</td>\n",
              "      <td>3</td>\n",
              "      <td>2019</td>\n",
              "      <td>1</td>\n",
              "      <td>21</td>\n",
              "      <td>35</td>\n",
              "      <td>16</td>\n",
              "      <td>50</td>\n",
              "      <td>0</td>\n",
              "      <td>1</td>\n",
              "      <td>29</td>\n",
              "      <td>1</td>\n",
              "      <td>7</td>\n",
              "    </tr>\n",
              "  </tbody>\n",
              "</table>\n",
              "</div>"
            ],
            "text/plain": [
              "   Airline  Source  Destination  ... Route_3 Route_4  Route_5\n",
              "0        3       0            5  ...      10       0       21\n",
              "1        1       3            0  ...      20       1        1\n",
              "2        4       2            1  ...      27       1        4\n",
              "3        3       3            0  ...      29       1        3\n",
              "4        3       0            5  ...      29       1        7\n",
              "\n",
              "[5 rows x 20 columns]"
            ]
          },
          "metadata": {},
          "execution_count": 66
        }
      ]
    },
    {
      "cell_type": "code",
      "metadata": {
        "id": "eLOx5zzrcZKV"
      },
      "source": [
        "total_df.drop(['Route','Duration'],axis=1,inplace=True)"
      ],
      "execution_count": 67,
      "outputs": []
    },
    {
      "cell_type": "code",
      "metadata": {
        "colab": {
          "base_uri": "https://localhost:8080/",
          "height": 224
        },
        "id": "W3_P4eUcckHU",
        "outputId": "5f307420-76bd-4e09-d776-c61efe3b1a39"
      },
      "source": [
        "total_df.head()"
      ],
      "execution_count": 68,
      "outputs": [
        {
          "output_type": "execute_result",
          "data": {
            "text/html": [
              "<div>\n",
              "<style scoped>\n",
              "    .dataframe tbody tr th:only-of-type {\n",
              "        vertical-align: middle;\n",
              "    }\n",
              "\n",
              "    .dataframe tbody tr th {\n",
              "        vertical-align: top;\n",
              "    }\n",
              "\n",
              "    .dataframe thead th {\n",
              "        text-align: right;\n",
              "    }\n",
              "</style>\n",
              "<table border=\"1\" class=\"dataframe\">\n",
              "  <thead>\n",
              "    <tr style=\"text-align: right;\">\n",
              "      <th></th>\n",
              "      <th>Airline</th>\n",
              "      <th>Source</th>\n",
              "      <th>Destination</th>\n",
              "      <th>Additional_Info</th>\n",
              "      <th>Price</th>\n",
              "      <th>Date</th>\n",
              "      <th>Month</th>\n",
              "      <th>Year</th>\n",
              "      <th>Stops</th>\n",
              "      <th>Arrival_Hour</th>\n",
              "      <th>Arrival_Minute</th>\n",
              "      <th>Departure_Hour</th>\n",
              "      <th>Departure_Minute</th>\n",
              "      <th>Route_1</th>\n",
              "      <th>Route_2</th>\n",
              "      <th>Route_3</th>\n",
              "      <th>Route_4</th>\n",
              "      <th>Route_5</th>\n",
              "    </tr>\n",
              "  </thead>\n",
              "  <tbody>\n",
              "    <tr>\n",
              "      <th>0</th>\n",
              "      <td>3</td>\n",
              "      <td>0</td>\n",
              "      <td>5</td>\n",
              "      <td>8</td>\n",
              "      <td>3897.0</td>\n",
              "      <td>24</td>\n",
              "      <td>3</td>\n",
              "      <td>2019</td>\n",
              "      <td>0</td>\n",
              "      <td>1</td>\n",
              "      <td>10</td>\n",
              "      <td>22</td>\n",
              "      <td>20</td>\n",
              "      <td>0</td>\n",
              "      <td>1</td>\n",
              "      <td>10</td>\n",
              "      <td>0</td>\n",
              "      <td>21</td>\n",
              "    </tr>\n",
              "    <tr>\n",
              "      <th>1</th>\n",
              "      <td>1</td>\n",
              "      <td>3</td>\n",
              "      <td>0</td>\n",
              "      <td>8</td>\n",
              "      <td>7662.0</td>\n",
              "      <td>1</td>\n",
              "      <td>5</td>\n",
              "      <td>2019</td>\n",
              "      <td>2</td>\n",
              "      <td>13</td>\n",
              "      <td>15</td>\n",
              "      <td>5</td>\n",
              "      <td>50</td>\n",
              "      <td>2</td>\n",
              "      <td>1</td>\n",
              "      <td>20</td>\n",
              "      <td>1</td>\n",
              "      <td>1</td>\n",
              "    </tr>\n",
              "    <tr>\n",
              "      <th>2</th>\n",
              "      <td>4</td>\n",
              "      <td>2</td>\n",
              "      <td>1</td>\n",
              "      <td>8</td>\n",
              "      <td>13882.0</td>\n",
              "      <td>9</td>\n",
              "      <td>6</td>\n",
              "      <td>2019</td>\n",
              "      <td>2</td>\n",
              "      <td>4</td>\n",
              "      <td>25</td>\n",
              "      <td>9</td>\n",
              "      <td>25</td>\n",
              "      <td>3</td>\n",
              "      <td>1</td>\n",
              "      <td>27</td>\n",
              "      <td>1</td>\n",
              "      <td>4</td>\n",
              "    </tr>\n",
              "    <tr>\n",
              "      <th>3</th>\n",
              "      <td>3</td>\n",
              "      <td>3</td>\n",
              "      <td>0</td>\n",
              "      <td>8</td>\n",
              "      <td>6218.0</td>\n",
              "      <td>12</td>\n",
              "      <td>5</td>\n",
              "      <td>2019</td>\n",
              "      <td>1</td>\n",
              "      <td>23</td>\n",
              "      <td>30</td>\n",
              "      <td>18</td>\n",
              "      <td>5</td>\n",
              "      <td>2</td>\n",
              "      <td>1</td>\n",
              "      <td>29</td>\n",
              "      <td>1</td>\n",
              "      <td>3</td>\n",
              "    </tr>\n",
              "    <tr>\n",
              "      <th>4</th>\n",
              "      <td>3</td>\n",
              "      <td>0</td>\n",
              "      <td>5</td>\n",
              "      <td>8</td>\n",
              "      <td>13302.0</td>\n",
              "      <td>1</td>\n",
              "      <td>3</td>\n",
              "      <td>2019</td>\n",
              "      <td>1</td>\n",
              "      <td>21</td>\n",
              "      <td>35</td>\n",
              "      <td>16</td>\n",
              "      <td>50</td>\n",
              "      <td>0</td>\n",
              "      <td>1</td>\n",
              "      <td>29</td>\n",
              "      <td>1</td>\n",
              "      <td>7</td>\n",
              "    </tr>\n",
              "  </tbody>\n",
              "</table>\n",
              "</div>"
            ],
            "text/plain": [
              "   Airline  Source  Destination  ...  Route_3  Route_4  Route_5\n",
              "0        3       0            5  ...       10        0       21\n",
              "1        1       3            0  ...       20        1        1\n",
              "2        4       2            1  ...       27        1        4\n",
              "3        3       3            0  ...       29        1        3\n",
              "4        3       0            5  ...       29        1        7\n",
              "\n",
              "[5 rows x 18 columns]"
            ]
          },
          "metadata": {},
          "execution_count": 68
        }
      ]
    },
    {
      "cell_type": "code",
      "metadata": {
        "id": "BcR29Lc4cmXz"
      },
      "source": [
        "total_df.drop(['Year'],axis=1,inplace=True)"
      ],
      "execution_count": 69,
      "outputs": []
    },
    {
      "cell_type": "markdown",
      "metadata": {
        "id": "hbsa_Rn2c98J"
      },
      "source": [
        "# Feature selection"
      ]
    },
    {
      "cell_type": "code",
      "metadata": {
        "id": "gItg2oyQdCIy"
      },
      "source": [
        "x=total_df.drop(['Price'],axis=1)\n",
        "y=total_df['Price']"
      ],
      "execution_count": 70,
      "outputs": []
    },
    {
      "cell_type": "code",
      "metadata": {
        "colab": {
          "base_uri": "https://localhost:8080/",
          "height": 224
        },
        "id": "OZtP7LHPdwPh",
        "outputId": "e257f540-f23a-4742-bed1-8feaf0ccdc87"
      },
      "source": [
        "x.head()"
      ],
      "execution_count": 71,
      "outputs": [
        {
          "output_type": "execute_result",
          "data": {
            "text/html": [
              "<div>\n",
              "<style scoped>\n",
              "    .dataframe tbody tr th:only-of-type {\n",
              "        vertical-align: middle;\n",
              "    }\n",
              "\n",
              "    .dataframe tbody tr th {\n",
              "        vertical-align: top;\n",
              "    }\n",
              "\n",
              "    .dataframe thead th {\n",
              "        text-align: right;\n",
              "    }\n",
              "</style>\n",
              "<table border=\"1\" class=\"dataframe\">\n",
              "  <thead>\n",
              "    <tr style=\"text-align: right;\">\n",
              "      <th></th>\n",
              "      <th>Airline</th>\n",
              "      <th>Source</th>\n",
              "      <th>Destination</th>\n",
              "      <th>Additional_Info</th>\n",
              "      <th>Date</th>\n",
              "      <th>Month</th>\n",
              "      <th>Stops</th>\n",
              "      <th>Arrival_Hour</th>\n",
              "      <th>Arrival_Minute</th>\n",
              "      <th>Departure_Hour</th>\n",
              "      <th>Departure_Minute</th>\n",
              "      <th>Route_1</th>\n",
              "      <th>Route_2</th>\n",
              "      <th>Route_3</th>\n",
              "      <th>Route_4</th>\n",
              "      <th>Route_5</th>\n",
              "    </tr>\n",
              "  </thead>\n",
              "  <tbody>\n",
              "    <tr>\n",
              "      <th>0</th>\n",
              "      <td>3</td>\n",
              "      <td>0</td>\n",
              "      <td>5</td>\n",
              "      <td>8</td>\n",
              "      <td>24</td>\n",
              "      <td>3</td>\n",
              "      <td>0</td>\n",
              "      <td>1</td>\n",
              "      <td>10</td>\n",
              "      <td>22</td>\n",
              "      <td>20</td>\n",
              "      <td>0</td>\n",
              "      <td>1</td>\n",
              "      <td>10</td>\n",
              "      <td>0</td>\n",
              "      <td>21</td>\n",
              "    </tr>\n",
              "    <tr>\n",
              "      <th>1</th>\n",
              "      <td>1</td>\n",
              "      <td>3</td>\n",
              "      <td>0</td>\n",
              "      <td>8</td>\n",
              "      <td>1</td>\n",
              "      <td>5</td>\n",
              "      <td>2</td>\n",
              "      <td>13</td>\n",
              "      <td>15</td>\n",
              "      <td>5</td>\n",
              "      <td>50</td>\n",
              "      <td>2</td>\n",
              "      <td>1</td>\n",
              "      <td>20</td>\n",
              "      <td>1</td>\n",
              "      <td>1</td>\n",
              "    </tr>\n",
              "    <tr>\n",
              "      <th>2</th>\n",
              "      <td>4</td>\n",
              "      <td>2</td>\n",
              "      <td>1</td>\n",
              "      <td>8</td>\n",
              "      <td>9</td>\n",
              "      <td>6</td>\n",
              "      <td>2</td>\n",
              "      <td>4</td>\n",
              "      <td>25</td>\n",
              "      <td>9</td>\n",
              "      <td>25</td>\n",
              "      <td>3</td>\n",
              "      <td>1</td>\n",
              "      <td>27</td>\n",
              "      <td>1</td>\n",
              "      <td>4</td>\n",
              "    </tr>\n",
              "    <tr>\n",
              "      <th>3</th>\n",
              "      <td>3</td>\n",
              "      <td>3</td>\n",
              "      <td>0</td>\n",
              "      <td>8</td>\n",
              "      <td>12</td>\n",
              "      <td>5</td>\n",
              "      <td>1</td>\n",
              "      <td>23</td>\n",
              "      <td>30</td>\n",
              "      <td>18</td>\n",
              "      <td>5</td>\n",
              "      <td>2</td>\n",
              "      <td>1</td>\n",
              "      <td>29</td>\n",
              "      <td>1</td>\n",
              "      <td>3</td>\n",
              "    </tr>\n",
              "    <tr>\n",
              "      <th>4</th>\n",
              "      <td>3</td>\n",
              "      <td>0</td>\n",
              "      <td>5</td>\n",
              "      <td>8</td>\n",
              "      <td>1</td>\n",
              "      <td>3</td>\n",
              "      <td>1</td>\n",
              "      <td>21</td>\n",
              "      <td>35</td>\n",
              "      <td>16</td>\n",
              "      <td>50</td>\n",
              "      <td>0</td>\n",
              "      <td>1</td>\n",
              "      <td>29</td>\n",
              "      <td>1</td>\n",
              "      <td>7</td>\n",
              "    </tr>\n",
              "  </tbody>\n",
              "</table>\n",
              "</div>"
            ],
            "text/plain": [
              "   Airline  Source  Destination  ...  Route_3  Route_4  Route_5\n",
              "0        3       0            5  ...       10        0       21\n",
              "1        1       3            0  ...       20        1        1\n",
              "2        4       2            1  ...       27        1        4\n",
              "3        3       3            0  ...       29        1        3\n",
              "4        3       0            5  ...       29        1        7\n",
              "\n",
              "[5 rows x 16 columns]"
            ]
          },
          "metadata": {},
          "execution_count": 71
        }
      ]
    },
    {
      "cell_type": "code",
      "metadata": {
        "colab": {
          "base_uri": "https://localhost:8080/"
        },
        "id": "pvkZHG49dyq0",
        "outputId": "ccfc1a61-4a0c-47b7-c195-8987ef11e1a4"
      },
      "source": [
        "y.head()"
      ],
      "execution_count": 72,
      "outputs": [
        {
          "output_type": "execute_result",
          "data": {
            "text/plain": [
              "0     3897.0\n",
              "1     7662.0\n",
              "2    13882.0\n",
              "3     6218.0\n",
              "4    13302.0\n",
              "Name: Price, dtype: float64"
            ]
          },
          "metadata": {},
          "execution_count": 72
        }
      ]
    },
    {
      "cell_type": "code",
      "metadata": {
        "id": "iQpkqj0ad0VR"
      },
      "source": [
        "from sklearn.linear_model import Lasso\n",
        "from sklearn.feature_selection import SelectFromModel"
      ],
      "execution_count": 73,
      "outputs": []
    },
    {
      "cell_type": "code",
      "metadata": {
        "id": "42IMzSTGeKJF"
      },
      "source": [
        "from sklearn.model_selection import train_test_split\n",
        "x_train,x_test,y_train,y_test=train_test_split(x,y,random_state=0,test_size=0.3)"
      ],
      "execution_count": 74,
      "outputs": []
    },
    {
      "cell_type": "code",
      "metadata": {
        "id": "hcQoXf6AehrI"
      },
      "source": [
        "model=SelectFromModel(Lasso(alpha=0.005,random_state=0))"
      ],
      "execution_count": 75,
      "outputs": []
    },
    {
      "cell_type": "code",
      "metadata": {
        "colab": {
          "base_uri": "https://localhost:8080/"
        },
        "id": "nVryo2ypeuSg",
        "outputId": "1cb37d08-ca6a-4fdf-e8ef-0b2a40d5ec0d"
      },
      "source": [
        "model.fit(x_train,y_train)"
      ],
      "execution_count": 76,
      "outputs": [
        {
          "output_type": "execute_result",
          "data": {
            "text/plain": [
              "SelectFromModel(estimator=Lasso(alpha=0.005, random_state=0))"
            ]
          },
          "metadata": {},
          "execution_count": 76
        }
      ]
    },
    {
      "cell_type": "code",
      "metadata": {
        "colab": {
          "base_uri": "https://localhost:8080/"
        },
        "id": "IkHz_lwBe1wp",
        "outputId": "171cefba-5a69-4df0-fe85-633f57ab6a45"
      },
      "source": [
        "model.get_support()"
      ],
      "execution_count": 77,
      "outputs": [
        {
          "output_type": "execute_result",
          "data": {
            "text/plain": [
              "array([ True,  True,  True,  True,  True,  True,  True,  True,  True,\n",
              "        True,  True,  True,  True,  True,  True,  True])"
            ]
          },
          "metadata": {},
          "execution_count": 77
        }
      ]
    },
    {
      "cell_type": "code",
      "metadata": {
        "id": "QNoDaf28fGTM"
      },
      "source": [
        "selected_features=x_train.columns[(model.get_support())]"
      ],
      "execution_count": 78,
      "outputs": []
    },
    {
      "cell_type": "code",
      "metadata": {
        "colab": {
          "base_uri": "https://localhost:8080/"
        },
        "id": "eVzxjrKegfFc",
        "outputId": "c7b29b29-fb67-4ebe-e474-40f262bb751b"
      },
      "source": [
        "selected_features"
      ],
      "execution_count": 79,
      "outputs": [
        {
          "output_type": "execute_result",
          "data": {
            "text/plain": [
              "Index(['Airline', 'Source', 'Destination', 'Additional_Info', 'Date', 'Month',\n",
              "       'Stops', 'Arrival_Hour', 'Arrival_Minute', 'Departure_Hour',\n",
              "       'Departure_Minute', 'Route_1', 'Route_2', 'Route_3', 'Route_4',\n",
              "       'Route_5'],\n",
              "      dtype='object')"
            ]
          },
          "metadata": {},
          "execution_count": 79
        }
      ]
    },
    {
      "cell_type": "code",
      "metadata": {
        "id": "wv4LUdargqbQ"
      },
      "source": [
        "#These are our selected features"
      ],
      "execution_count": 80,
      "outputs": []
    },
    {
      "cell_type": "code",
      "metadata": {
        "id": "dflVu4m2g3Xp"
      },
      "source": [
        "from sklearn.ensemble import ExtraTreesRegressor"
      ],
      "execution_count": 81,
      "outputs": []
    },
    {
      "cell_type": "code",
      "metadata": {
        "colab": {
          "base_uri": "https://localhost:8080/"
        },
        "id": "yHctFKy2hGMq",
        "outputId": "d9e08900-89bc-4e75-81c3-aab4f067009b"
      },
      "source": [
        "etr=ExtraTreesRegressor()\n",
        "etr.fit(x_train,y_train)\n"
      ],
      "execution_count": 82,
      "outputs": [
        {
          "output_type": "execute_result",
          "data": {
            "text/plain": [
              "ExtraTreesRegressor()"
            ]
          },
          "metadata": {},
          "execution_count": 82
        }
      ]
    },
    {
      "cell_type": "code",
      "metadata": {
        "colab": {
          "base_uri": "https://localhost:8080/",
          "height": 563
        },
        "id": "77q5D4obhQ-v",
        "outputId": "c117b4f0-7ff4-4c92-b157-041c40b659c3"
      },
      "source": [
        "plt.style.use(\"ggplot\")\n",
        "plt.figure(figsize=(15,8))\n",
        "feature_importances = pd.Series(etr.feature_importances_,index=x.columns)\n",
        "feature_importances.nlargest(35).plot(kind='bar')\n",
        "plt.show()"
      ],
      "execution_count": 83,
      "outputs": [
        {
          "output_type": "display_data",
          "data": {
            "image/png": "[encoded data removed]",
            "text/plain": [
              "<Figure size 1080x576 with 1 Axes>"
            ]
          },
          "metadata": {}
        }
      ]
    },
    {
      "cell_type": "markdown",
      "metadata": {
        "id": "YX0iuvWQilXC"
      },
      "source": [
        "# Importing Our model"
      ]
    },
    {
      "cell_type": "code",
      "metadata": {
        "id": "wmouQVKviqls"
      },
      "source": [
        "from sklearn.ensemble import RandomForestRegressor"
      ],
      "execution_count": 84,
      "outputs": []
    },
    {
      "cell_type": "code",
      "metadata": {
        "colab": {
          "base_uri": "https://localhost:8080/"
        },
        "id": "BFMdRtYEi0_N",
        "outputId": "29e1cf07-4824-49de-eff5-6bfd040c368e"
      },
      "source": [
        "reg_rf=RandomForestRegressor()\n",
        "reg_rf.fit(x_train,y_train)"
      ],
      "execution_count": 85,
      "outputs": [
        {
          "output_type": "execute_result",
          "data": {
            "text/plain": [
              "RandomForestRegressor()"
            ]
          },
          "metadata": {},
          "execution_count": 85
        }
      ]
    },
    {
      "cell_type": "code",
      "metadata": {
        "id": "deo6L_uni_qt"
      },
      "source": [
        "y_pred=reg_rf.predict(x_test)"
      ],
      "execution_count": 86,
      "outputs": []
    },
    {
      "cell_type": "code",
      "metadata": {
        "colab": {
          "base_uri": "https://localhost:8080/"
        },
        "id": "wdD6rifTjK7k",
        "outputId": "4422b828-4a6e-4de2-efa4-578d432e350d"
      },
      "source": [
        "reg_rf.score(x_train,y_train)"
      ],
      "execution_count": 87,
      "outputs": [
        {
          "output_type": "execute_result",
          "data": {
            "text/plain": [
              "0.9487293726219013"
            ]
          },
          "metadata": {},
          "execution_count": 87
        }
      ]
    },
    {
      "cell_type": "code",
      "metadata": {
        "colab": {
          "base_uri": "https://localhost:8080/",
          "height": 663
        },
        "id": "ueCPrPkSjTnf",
        "outputId": "1ce8968d-38a8-4170-f005-2bb0590683e3"
      },
      "source": [
        "plt.style.use('ggplot')\n",
        "plt.figure(figsize=(15,10))\n",
        "sns.distplot(y_test-y_pred)\n",
        "plt.show()"
      ],
      "execution_count": 88,
      "outputs": [
        {
          "output_type": "stream",
          "name": "stderr",
          "text": [
            "/usr/local/lib/python3.7/dist-packages/seaborn/distributions.py:2619: FutureWarning: `distplot` is a deprecated function and will be removed in a future version. Please adapt your code to use either `displot` (a figure-level function with similar flexibility) or `histplot` (an axes-level function for histograms).\n",
            "  warnings.warn(msg, FutureWarning)\n"
          ]
        },
        {
          "output_type": "display_data",
          "data": {
            "image/png": "[encoded data removed]",
            "text/plain": [
              "<Figure size 1080x720 with 1 Axes>"
            ]
          },
          "metadata": {}
        }
      ]
    },
    {
      "cell_type": "code",
      "metadata": {
        "colab": {
          "base_uri": "https://localhost:8080/",
          "height": 500
        },
        "id": "WxQh0Qb4jmho",
        "outputId": "285cccf3-60c3-4a7a-c7c9-f2d8b817b758"
      },
      "source": [
        "plt.figure(figsize=(12,8))\n",
        "plt.style.use('ggplot')\n",
        "plt.scatter(y_test,y_pred,alpha=0.5)\n",
        "plt.xlabel('y_test')\n",
        "plt.ylabel('y_pred')\n",
        "plt.show()"
      ],
      "execution_count": 89,
      "outputs": [
        {
          "output_type": "display_data",
          "data": {
            "image/png": "[encoded data removed]",
            "text/plain": [
              "<Figure size 864x576 with 1 Axes>"
            ]
          },
          "metadata": {}
        }
      ]
    },
    {
      "cell_type": "code",
      "metadata": {
        "id": "jCXfhhZSkJRF"
      },
      "source": [
        "from sklearn import metrics"
      ],
      "execution_count": 90,
      "outputs": []
    },
    {
      "cell_type": "code",
      "metadata": {
        "colab": {
          "base_uri": "https://localhost:8080/"
        },
        "id": "DJu_zHNdkXhV",
        "outputId": "7027a513-0f0c-483f-a456-26d68401d7f8"
      },
      "source": [
        "print('MAE:',metrics.mean_absolute_error(y_test,y_pred))\n",
        "print('MSE:',metrics.mean_squared_error(y_test,y_pred))\n",
        "print('RSME:',np.sqrt(metrics.mean_squared_error(y_test,y_pred)))"
      ],
      "execution_count": 91,
      "outputs": [
        {
          "output_type": "stream",
          "name": "stdout",
          "text": [
            "MAE: 1533.507076834695\n",
            "MSE: 6529827.067528491\n",
            "RSME: 2555.352630759303\n"
          ]
        }
      ]
    },
    {
      "cell_type": "code",
      "metadata": {
        "colab": {
          "base_uri": "https://localhost:8080/"
        },
        "id": "nHa1MS78lCY7",
        "outputId": "e91eefbc-f757-4368-8546-ffe97ee0646d"
      },
      "source": [
        "metrics.r2_score(y_test,y_pred)"
      ],
      "execution_count": 92,
      "outputs": [
        {
          "output_type": "execute_result",
          "data": {
            "text/plain": [
              "0.6072472563682807"
            ]
          },
          "metadata": {},
          "execution_count": 92
        }
      ]
    },
    {
      "cell_type": "markdown",
      "metadata": {
        "id": "-VxiJ7gDla5a"
      },
      "source": [
        "# Hyperparameter tuning"
      ]
    },
    {
      "cell_type": "code",
      "metadata": {
        "id": "zJGvXeEHlfp1"
      },
      "source": [
        "from sklearn.model_selection import RandomizedSearchCV"
      ],
      "execution_count": 93,
      "outputs": []
    },
    {
      "cell_type": "code",
      "metadata": {
        "id": "8m1ZwR4GltG-"
      },
      "source": [
        "#Number of trees in random forest\n",
        "n_estimators = [int(x) for x in  np.linspace(start = 100 , stop = 1500, num = 15)]\n",
        "#Number feature consider every split\n",
        "max_features=['auto','sqrt']\n",
        "#Maximum numbers level in trees\n",
        "max_depth = [int(x) for x in np.linspace(5,30 ,num = 6)]\n",
        "#Minimun number of samples required split a  node\n",
        "min_samples_split = [2,3,5,7,10,15,100]\n",
        "#Minimum number of samples requires at each leaf node\n",
        "min_samples_leaf = [1,2,3,5,8,10]\n"
      ],
      "execution_count": 94,
      "outputs": []
    },
    {
      "cell_type": "code",
      "metadata": {
        "id": "pMIif3xzqj3m"
      },
      "source": [
        "param_grid={'n_estimators':n_estimators,\n",
        "            'max_features':max_features,\n",
        "            'max_depth':max_depth,\n",
        "            'min_samples_split':min_samples_split,\n",
        "            'min_samples_leaf':min_samples_leaf}"
      ],
      "execution_count": 95,
      "outputs": []
    },
    {
      "cell_type": "code",
      "metadata": {
        "id": "ya9oLlEFrMke"
      },
      "source": [
        "rf_random = RandomizedSearchCV(estimator=reg_rf,param_distributions=param_grid,scoring='neg_mean_squared_error',\n",
        "                               n_iter = 50 , cv = 5 ,verbose=2 , random_state=42,n_jobs=3)"
      ],
      "execution_count": 96,
      "outputs": []
    },
    {
      "cell_type": "code",
      "metadata": {
        "colab": {
          "base_uri": "https://localhost:8080/"
        },
        "id": "ecyefSqdrymE",
        "outputId": "2570115d-5e40-44bc-9cfb-9c32abd0b650"
      },
      "source": [
        "rf_random.fit(x_train,y_train)"
      ],
      "execution_count": 97,
      "outputs": [
        {
          "output_type": "stream",
          "name": "stdout",
          "text": [
            "Fitting 5 folds for each of 50 candidates, totalling 250 fits\n"
          ]
        },
        {
          "output_type": "stream",
          "name": "stderr",
          "text": [
            "/usr/local/lib/python3.7/dist-packages/joblib/externals/loky/process_executor.py:705: UserWarning: A worker stopped while some jobs were given to the executor. This can be caused by a too short worker timeout or by a memory leak.\n",
            "  \"timeout or by a memory leak.\", UserWarning\n"
          ]
        },
        {
          "output_type": "execute_result",
          "data": {
            "text/plain": [
              "RandomizedSearchCV(cv=5, estimator=RandomForestRegressor(), n_iter=50, n_jobs=3,\n",
              "                   param_distributions={'max_depth': [5, 10, 15, 20, 25, 30],\n",
              "                                        'max_features': ['auto', 'sqrt'],\n",
              "                                        'min_samples_leaf': [1, 2, 3, 5, 8, 10],\n",
              "                                        'min_samples_split': [2, 3, 5, 7, 10,\n",
              "                                                              15, 100],\n",
              "                                        'n_estimators': [100, 200, 300, 400,\n",
              "                                                         500, 600, 700, 800,\n",
              "                                                         900, 1000, 1100, 1200,\n",
              "                                                         1300, 1400, 1500]},\n",
              "                   random_state=42, scoring='neg_mean_squared_error',\n",
              "                   verbose=2)"
            ]
          },
          "metadata": {},
          "execution_count": 97
        }
      ]
    },
    {
      "cell_type": "code",
      "metadata": {
        "colab": {
          "base_uri": "https://localhost:8080/"
        },
        "id": "eH9hajGar_tW",
        "outputId": "64da488e-327c-4266-917b-44e41d1a623b"
      },
      "source": [
        "rf_random.best_params_"
      ],
      "execution_count": 98,
      "outputs": [
        {
          "output_type": "execute_result",
          "data": {
            "text/plain": [
              "{'max_depth': 15,\n",
              " 'max_features': 'sqrt',\n",
              " 'min_samples_leaf': 1,\n",
              " 'min_samples_split': 3,\n",
              " 'n_estimators': 700}"
            ]
          },
          "metadata": {},
          "execution_count": 98
        }
      ]
    },
    {
      "cell_type": "code",
      "metadata": {
        "id": "-9Y4tExfzlTC"
      },
      "source": [
        "reg_rf=RandomForestRegressor(n_estimators=700,min_samples_leaf=1,min_samples_split=3,\n",
        "                             max_features = 'sqrt',max_depth = 15)"
      ],
      "execution_count": 99,
      "outputs": []
    },
    {
      "cell_type": "code",
      "metadata": {
        "colab": {
          "base_uri": "https://localhost:8080/"
        },
        "id": "IgNarv_s0JcU",
        "outputId": "2200540c-eefa-4e78-ee7e-815bffe06ad5"
      },
      "source": [
        "reg_rf.fit(x_train,y_train)"
      ],
      "execution_count": 100,
      "outputs": [
        {
          "output_type": "execute_result",
          "data": {
            "text/plain": [
              "RandomForestRegressor(max_depth=15, max_features='sqrt', min_samples_split=3,\n",
              "                      n_estimators=700)"
            ]
          },
          "metadata": {},
          "execution_count": 100
        }
      ]
    },
    {
      "cell_type": "code",
      "metadata": {
        "id": "EifExg720ThJ"
      },
      "source": [
        "y_pred1=reg_rf.predict(x_test)\n"
      ],
      "execution_count": 101,
      "outputs": []
    },
    {
      "cell_type": "code",
      "metadata": {
        "colab": {
          "base_uri": "https://localhost:8080/"
        },
        "id": "hqxPjdBC0dsI",
        "outputId": "8ab74060-3a11-4b74-bb04-717627c2f779"
      },
      "source": [
        "y_pred1"
      ],
      "execution_count": 102,
      "outputs": [
        {
          "output_type": "execute_result",
          "data": {
            "text/plain": [
              "array([10233.90547338,  9018.46741453,  8471.84652652, ...,\n",
              "        4411.10389868,  7970.76651003,  9984.94379978])"
            ]
          },
          "metadata": {},
          "execution_count": 102
        }
      ]
    },
    {
      "cell_type": "code",
      "metadata": {
        "colab": {
          "base_uri": "https://localhost:8080/",
          "height": 554
        },
        "id": "rsKvSMfo0jwj",
        "outputId": "ea18c96f-7f66-4043-be79-d4a6c601b143"
      },
      "source": [
        "plt.style.use('ggplot')\n",
        "plt.figure(figsize=(12,8))\n",
        "sns.distplot(y_test-y_pred1)\n",
        "plt.show()"
      ],
      "execution_count": 103,
      "outputs": [
        {
          "output_type": "stream",
          "name": "stderr",
          "text": [
            "/usr/local/lib/python3.7/dist-packages/seaborn/distributions.py:2619: FutureWarning: `distplot` is a deprecated function and will be removed in a future version. Please adapt your code to use either `displot` (a figure-level function with similar flexibility) or `histplot` (an axes-level function for histograms).\n",
            "  warnings.warn(msg, FutureWarning)\n"
          ]
        },
        {
          "output_type": "display_data",
          "data": {
            "image/png": "[encoded data removed]",
            "text/plain": [
              "<Figure size 864x576 with 1 Axes>"
            ]
          },
          "metadata": {}
        }
      ]
    },
    {
      "cell_type": "code",
      "metadata": {
        "colab": {
          "base_uri": "https://localhost:8080/",
          "height": 500
        },
        "id": "hHHbmKav09LE",
        "outputId": "1758e57f-f6c2-42e3-bc80-5ad31e2e1e5f"
      },
      "source": [
        "plt.figure(figsize=(12,8))\n",
        "plt.style.use(\"ggplot\")\n",
        "plt.scatter(y_test,y_pred1,alpha=0.5)\n",
        "plt.xlabel('x_test')\n",
        "plt.ylabel('y_pred1')\n",
        "plt.show()"
      ],
      "execution_count": 104,
      "outputs": [
        {
          "output_type": "display_data",
          "data": {
            "image/png": "[encoded data removed]",
            "text/plain": [
              "<Figure size 864x576 with 1 Axes>"
            ]
          },
          "metadata": {}
        }
      ]
    },
    {
      "cell_type": "code",
      "metadata": {
        "colab": {
          "base_uri": "https://localhost:8080/"
        },
        "id": "Mw34-j0h1eKB",
        "outputId": "97b1cc98-7bec-4307-a875-bb75a8ca22f1"
      },
      "source": [
        "metrics.r2_score(y_test,y_pred1)"
      ],
      "execution_count": 105,
      "outputs": [
        {
          "output_type": "execute_result",
          "data": {
            "text/plain": [
              "0.63464783175081"
            ]
          },
          "metadata": {},
          "execution_count": 105
        }
      ]
    },
    {
      "cell_type": "markdown",
      "metadata": {
        "id": "zfpZF6mf1xJ9"
      },
      "source": [
        "# Using Auto Sklearn (Auto Ml)"
      ]
    },
    {
      "cell_type": "markdown",
      "metadata": {
        "id": "PFalpBX-2EUC"
      },
      "source": [
        "# auto sklearn frees a machine learning user from algorithm selection and hyperparameter tuning.it levearages recent advantages in Bayesian optimization ,meta-learning and ensemble construction."
      ]
    },
    {
      "cell_type": "code",
      "metadata": {
        "colab": {
          "base_uri": "https://localhost:8080/"
        },
        "id": "zbkcFweS2gQM",
        "outputId": "0e597b19-0ae5-42d7-c73f-f1ce8cf75f6e"
      },
      "source": [
        "!apt-get install swig -y"
      ],
      "execution_count": 106,
      "outputs": [
        {
          "output_type": "stream",
          "name": "stdout",
          "text": [
            "Reading package lists... Done\n",
            "Building dependency tree       \n",
            "Reading state information... Done\n",
            "swig is already the newest version (3.0.12-1).\n",
            "0 upgraded, 0 newly installed, 0 to remove and 37 not upgraded.\n"
          ]
        }
      ]
    },
    {
      "cell_type": "code",
      "metadata": {
        "colab": {
          "base_uri": "https://localhost:8080/"
        },
        "id": "ip8mGNZT21bQ",
        "outputId": "65a15a30-5cfe-42b3-e870-1d1d75d6ce6d"
      },
      "source": [
        "!pip install cython numpy"
      ],
      "execution_count": 107,
      "outputs": [
        {
          "output_type": "stream",
          "name": "stdout",
          "text": [
            "Requirement already satisfied: cython in /usr/local/lib/python3.7/dist-packages (0.29.24)\n",
            "Requirement already satisfied: numpy in /usr/local/lib/python3.7/dist-packages (1.19.5)\n"
          ]
        }
      ]
    },
    {
      "cell_type": "code",
      "metadata": {
        "colab": {
          "base_uri": "https://localhost:8080/"
        },
        "id": "_BYKvUu72_p4",
        "outputId": "e9589516-9a7d-4581-af6a-37255610e24a"
      },
      "source": [
        "!pip install auto-sklearn"
      ],
      "execution_count": 108,
      "outputs": [
        {
          "output_type": "stream",
          "name": "stdout",
          "text": [
            "Requirement already satisfied: auto-sklearn in /usr/local/lib/python3.7/dist-packages (0.14.2)\n",
            "Requirement already satisfied: pandas>=1.0 in /usr/local/lib/python3.7/dist-packages (from auto-sklearn) (1.1.5)\n",
            "Requirement already satisfied: distributed<2021.07,>=2.2.0 in /usr/local/lib/python3.7/dist-packages (from auto-sklearn) (2021.6.2)\n",
            "Requirement already satisfied: joblib in /usr/local/lib/python3.7/dist-packages (from auto-sklearn) (1.1.0)\n",
            "Requirement already satisfied: setuptools in /usr/local/lib/python3.7/dist-packages (from auto-sklearn) (57.4.0)\n",
            "Requirement already satisfied: scikit-learn<0.25.0,>=0.24.0 in /usr/local/lib/python3.7/dist-packages (from auto-sklearn) (0.24.2)\n",
            "Requirement already satisfied: dask<2021.07 in /usr/local/lib/python3.7/dist-packages (from auto-sklearn) (2021.6.2)\n",
            "Requirement already satisfied: pyyaml in /usr/local/lib/python3.7/dist-packages (from auto-sklearn) (3.13)\n",
            "Requirement already satisfied: pyrfr<0.9,>=0.8.1 in /usr/local/lib/python3.7/dist-packages (from auto-sklearn) (0.8.2)\n",
            "Requirement already satisfied: liac-arff in /usr/local/lib/python3.7/dist-packages (from auto-sklearn) (2.5.0)\n",
            "Requirement already satisfied: ConfigSpace<0.5,>=0.4.14 in /usr/local/lib/python3.7/dist-packages (from auto-sklearn) (0.4.20)\n",
            "Requirement already satisfied: numpy>=1.9.0 in /usr/local/lib/python3.7/dist-packages (from auto-sklearn) (1.19.5)\n",
            "Requirement already satisfied: pynisher>=0.6.3 in /usr/local/lib/python3.7/dist-packages (from auto-sklearn) (0.6.4)\n",
            "Requirement already satisfied: typing-extensions in /usr/local/lib/python3.7/dist-packages (from auto-sklearn) (3.10.0.2)\n",
            "Requirement already satisfied: threadpoolctl in /usr/local/lib/python3.7/dist-packages (from auto-sklearn) (3.0.0)\n",
            "Requirement already satisfied: smac>=0.14 in /usr/local/lib/python3.7/dist-packages (from auto-sklearn) (1.1.1)\n",
            "Requirement already satisfied: scipy>=1.7.0 in /usr/local/lib/python3.7/dist-packages (from auto-sklearn) (1.7.2)\n",
            "Requirement already satisfied: cython in /usr/local/lib/python3.7/dist-packages (from ConfigSpace<0.5,>=0.4.14->auto-sklearn) (0.29.24)\n",
            "Requirement already satisfied: pyparsing in /usr/local/lib/python3.7/dist-packages (from ConfigSpace<0.5,>=0.4.14->auto-sklearn) (2.4.7)\n",
            "Requirement already satisfied: fsspec>=0.6.0 in /usr/local/lib/python3.7/dist-packages (from dask<2021.07->auto-sklearn) (2021.11.0)\n",
            "Requirement already satisfied: partd>=0.3.10 in /usr/local/lib/python3.7/dist-packages (from dask<2021.07->auto-sklearn) (1.2.0)\n",
            "Requirement already satisfied: cloudpickle>=1.1.1 in /usr/local/lib/python3.7/dist-packages (from dask<2021.07->auto-sklearn) (2.0.0)\n",
            "Requirement already satisfied: toolz>=0.8.2 in /usr/local/lib/python3.7/dist-packages (from dask<2021.07->auto-sklearn) (0.11.1)\n",
            "Requirement already satisfied: psutil>=5.0 in /usr/local/lib/python3.7/dist-packages (from distributed<2021.07,>=2.2.0->auto-sklearn) (5.4.8)\n",
            "Requirement already satisfied: tblib>=1.6.0 in /usr/local/lib/python3.7/dist-packages (from distributed<2021.07,>=2.2.0->auto-sklearn) (1.7.0)\n",
            "Requirement already satisfied: zict>=0.1.3 in /usr/local/lib/python3.7/dist-packages (from distributed<2021.07,>=2.2.0->auto-sklearn) (2.0.0)\n",
            "Requirement already satisfied: tornado>=5 in /usr/local/lib/python3.7/dist-packages (from distributed<2021.07,>=2.2.0->auto-sklearn) (5.1.1)\n",
            "Requirement already satisfied: sortedcontainers!=2.0.0,!=2.0.1 in /usr/local/lib/python3.7/dist-packages (from distributed<2021.07,>=2.2.0->auto-sklearn) (2.4.0)\n",
            "Requirement already satisfied: click>=6.6 in /usr/local/lib/python3.7/dist-packages (from distributed<2021.07,>=2.2.0->auto-sklearn) (7.1.2)\n",
            "Requirement already satisfied: msgpack>=0.6.0 in /usr/local/lib/python3.7/dist-packages (from distributed<2021.07,>=2.2.0->auto-sklearn) (1.0.2)\n",
            "Requirement already satisfied: pytz>=2017.2 in /usr/local/lib/python3.7/dist-packages (from pandas>=1.0->auto-sklearn) (2018.9)\n",
            "Requirement already satisfied: python-dateutil>=2.7.3 in /usr/local/lib/python3.7/dist-packages (from pandas>=1.0->auto-sklearn) (2.8.2)\n",
            "Requirement already satisfied: locket in /usr/local/lib/python3.7/dist-packages (from partd>=0.3.10->dask<2021.07->auto-sklearn) (0.2.1)\n",
            "Requirement already satisfied: six>=1.5 in /usr/local/lib/python3.7/dist-packages (from python-dateutil>=2.7.3->pandas>=1.0->auto-sklearn) (1.15.0)\n",
            "Requirement already satisfied: emcee>=3.0.0 in /usr/local/lib/python3.7/dist-packages (from smac>=0.14->auto-sklearn) (3.1.1)\n",
            "Requirement already satisfied: heapdict in /usr/local/lib/python3.7/dist-packages (from zict>=0.1.3->distributed<2021.07,>=2.2.0->auto-sklearn) (1.0.1)\n"
          ]
        }
      ]
    },
    {
      "cell_type": "code",
      "metadata": {
        "id": "Y0Gzoori3EfE"
      },
      "source": [
        "import autosklearn"
      ],
      "execution_count": 109,
      "outputs": []
    },
    {
      "cell_type": "code",
      "metadata": {
        "id": "W4n7O7W73Vpo"
      },
      "source": [
        "import autosklearn.regression as reg"
      ],
      "execution_count": 110,
      "outputs": []
    },
    {
      "cell_type": "code",
      "metadata": {
        "id": "JcPdJtcOFGzG"
      },
      "source": [
        "df=pd.read_csv(r'/content/flight data.csv')"
      ],
      "execution_count": 111,
      "outputs": []
    },
    {
      "cell_type": "code",
      "metadata": {
        "colab": {
          "base_uri": "https://localhost:8080/",
          "height": 598
        },
        "id": "PkesI3NrFPjr",
        "outputId": "094d2795-2e7e-44bc-8cb3-42b0e2f882c5"
      },
      "source": [
        "df.head()"
      ],
      "execution_count": 112,
      "outputs": [
        {
          "output_type": "execute_result",
          "data": {
            "text/html": [
              "<div>\n",
              "<style scoped>\n",
              "    .dataframe tbody tr th:only-of-type {\n",
              "        vertical-align: middle;\n",
              "    }\n",
              "\n",
              "    .dataframe tbody tr th {\n",
              "        vertical-align: top;\n",
              "    }\n",
              "\n",
              "    .dataframe thead th {\n",
              "        text-align: right;\n",
              "    }\n",
              "</style>\n",
              "<table border=\"1\" class=\"dataframe\">\n",
              "  <thead>\n",
              "    <tr style=\"text-align: right;\">\n",
              "      <th></th>\n",
              "      <th>Airline</th>\n",
              "      <th>Date_of_Journey</th>\n",
              "      <th>Source</th>\n",
              "      <th>Destination</th>\n",
              "      <th>Route</th>\n",
              "      <th>Dep_Time</th>\n",
              "      <th>Arrival_Time</th>\n",
              "      <th>Duration</th>\n",
              "      <th>Total_Stops</th>\n",
              "      <th>Additional_Info</th>\n",
              "      <th>Price</th>\n",
              "    </tr>\n",
              "  </thead>\n",
              "  <tbody>\n",
              "    <tr>\n",
              "      <th>0</th>\n",
              "      <td>IndiGo</td>\n",
              "      <td>24/03/2019</td>\n",
              "      <td>Banglore</td>\n",
              "      <td>New Delhi</td>\n",
              "      <td>BLR → DEL</td>\n",
              "      <td>22:20</td>\n",
              "      <td>01:10 22 Mar</td>\n",
              "      <td>2h 50m</td>\n",
              "      <td>non-stop</td>\n",
              "      <td>No info</td>\n",
              "      <td>3897</td>\n",
              "    </tr>\n",
              "    <tr>\n",
              "      <th>1</th>\n",
              "      <td>Air India</td>\n",
              "      <td>1/05/2019</td>\n",
              "      <td>Kolkata</td>\n",
              "      <td>Banglore</td>\n",
              "      <td>CCU → IXR → BBI → BLR</td>\n",
              "      <td>05:50</td>\n",
              "      <td>13:15</td>\n",
              "      <td>7h 25m</td>\n",
              "      <td>2 stops</td>\n",
              "      <td>No info</td>\n",
              "      <td>7662</td>\n",
              "    </tr>\n",
              "    <tr>\n",
              "      <th>2</th>\n",
              "      <td>Jet Airways</td>\n",
              "      <td>9/06/2019</td>\n",
              "      <td>Delhi</td>\n",
              "      <td>Cochin</td>\n",
              "      <td>DEL → LKO → BOM → COK</td>\n",
              "      <td>09:25</td>\n",
              "      <td>04:25 10 Jun</td>\n",
              "      <td>19h</td>\n",
              "      <td>2 stops</td>\n",
              "      <td>No info</td>\n",
              "      <td>13882</td>\n",
              "    </tr>\n",
              "    <tr>\n",
              "      <th>3</th>\n",
              "      <td>IndiGo</td>\n",
              "      <td>12/05/2019</td>\n",
              "      <td>Kolkata</td>\n",
              "      <td>Banglore</td>\n",
              "      <td>CCU → NAG → BLR</td>\n",
              "      <td>18:05</td>\n",
              "      <td>23:30</td>\n",
              "      <td>5h 25m</td>\n",
              "      <td>1 stop</td>\n",
              "      <td>No info</td>\n",
              "      <td>6218</td>\n",
              "    </tr>\n",
              "    <tr>\n",
              "      <th>4</th>\n",
              "      <td>IndiGo</td>\n",
              "      <td>01/03/2019</td>\n",
              "      <td>Banglore</td>\n",
              "      <td>New Delhi</td>\n",
              "      <td>BLR → NAG → DEL</td>\n",
              "      <td>16:50</td>\n",
              "      <td>21:35</td>\n",
              "      <td>4h 45m</td>\n",
              "      <td>1 stop</td>\n",
              "      <td>No info</td>\n",
              "      <td>13302</td>\n",
              "    </tr>\n",
              "  </tbody>\n",
              "</table>\n",
              "</div>"
            ],
            "text/plain": [
              "       Airline Date_of_Journey    Source  ... Total_Stops Additional_Info  Price\n",
              "0       IndiGo      24/03/2019  Banglore  ...    non-stop         No info   3897\n",
              "1    Air India       1/05/2019   Kolkata  ...     2 stops         No info   7662\n",
              "2  Jet Airways       9/06/2019     Delhi  ...     2 stops         No info  13882\n",
              "3       IndiGo      12/05/2019   Kolkata  ...      1 stop         No info   6218\n",
              "4       IndiGo      01/03/2019  Banglore  ...      1 stop         No info  13302\n",
              "\n",
              "[5 rows x 11 columns]"
            ]
          },
          "metadata": {},
          "execution_count": 112
        }
      ]
    },
    {
      "cell_type": "code",
      "metadata": {
        "id": "Hb7FOkYPFRR3"
      },
      "source": [
        "df1=pd.read_csv(r'/content/flight test.csv')"
      ],
      "execution_count": 113,
      "outputs": []
    },
    {
      "cell_type": "code",
      "metadata": {
        "id": "63krL2QHFj6U"
      },
      "source": [
        "#we will use the same x_train and y_train data"
      ],
      "execution_count": 114,
      "outputs": []
    },
    {
      "cell_type": "code",
      "metadata": {
        "colab": {
          "base_uri": "https://localhost:8080/",
          "height": 439
        },
        "id": "6EBtpt-WFs5N",
        "outputId": "d178c69a-aab1-4d84-90b3-959d223c7a22"
      },
      "source": [
        "x_train"
      ],
      "execution_count": 115,
      "outputs": [
        {
          "output_type": "execute_result",
          "data": {
            "text/html": [
              "<div>\n",
              "<style scoped>\n",
              "    .dataframe tbody tr th:only-of-type {\n",
              "        vertical-align: middle;\n",
              "    }\n",
              "\n",
              "    .dataframe tbody tr th {\n",
              "        vertical-align: top;\n",
              "    }\n",
              "\n",
              "    .dataframe thead th {\n",
              "        text-align: right;\n",
              "    }\n",
              "</style>\n",
              "<table border=\"1\" class=\"dataframe\">\n",
              "  <thead>\n",
              "    <tr style=\"text-align: right;\">\n",
              "      <th></th>\n",
              "      <th>Airline</th>\n",
              "      <th>Source</th>\n",
              "      <th>Destination</th>\n",
              "      <th>Additional_Info</th>\n",
              "      <th>Date</th>\n",
              "      <th>Month</th>\n",
              "      <th>Stops</th>\n",
              "      <th>Arrival_Hour</th>\n",
              "      <th>Arrival_Minute</th>\n",
              "      <th>Departure_Hour</th>\n",
              "      <th>Departure_Minute</th>\n",
              "      <th>Route_1</th>\n",
              "      <th>Route_2</th>\n",
              "      <th>Route_3</th>\n",
              "      <th>Route_4</th>\n",
              "      <th>Route_5</th>\n",
              "    </tr>\n",
              "  </thead>\n",
              "  <tbody>\n",
              "    <tr>\n",
              "      <th>8876</th>\n",
              "      <td>4</td>\n",
              "      <td>3</td>\n",
              "      <td>0</td>\n",
              "      <td>5</td>\n",
              "      <td>1</td>\n",
              "      <td>4</td>\n",
              "      <td>1</td>\n",
              "      <td>23</td>\n",
              "      <td>35</td>\n",
              "      <td>16</td>\n",
              "      <td>30</td>\n",
              "      <td>2</td>\n",
              "      <td>1</td>\n",
              "      <td>6</td>\n",
              "      <td>1</td>\n",
              "      <td>3</td>\n",
              "    </tr>\n",
              "    <tr>\n",
              "      <th>1443</th>\n",
              "      <td>4</td>\n",
              "      <td>3</td>\n",
              "      <td>0</td>\n",
              "      <td>8</td>\n",
              "      <td>9</td>\n",
              "      <td>5</td>\n",
              "      <td>1</td>\n",
              "      <td>4</td>\n",
              "      <td>40</td>\n",
              "      <td>18</td>\n",
              "      <td>55</td>\n",
              "      <td>2</td>\n",
              "      <td>1</td>\n",
              "      <td>6</td>\n",
              "      <td>1</td>\n",
              "      <td>3</td>\n",
              "    </tr>\n",
              "    <tr>\n",
              "      <th>8835</th>\n",
              "      <td>4</td>\n",
              "      <td>3</td>\n",
              "      <td>0</td>\n",
              "      <td>8</td>\n",
              "      <td>12</td>\n",
              "      <td>6</td>\n",
              "      <td>1</td>\n",
              "      <td>9</td>\n",
              "      <td>45</td>\n",
              "      <td>20</td>\n",
              "      <td>25</td>\n",
              "      <td>2</td>\n",
              "      <td>1</td>\n",
              "      <td>10</td>\n",
              "      <td>1</td>\n",
              "      <td>3</td>\n",
              "    </tr>\n",
              "    <tr>\n",
              "      <th>8572</th>\n",
              "      <td>6</td>\n",
              "      <td>2</td>\n",
              "      <td>1</td>\n",
              "      <td>8</td>\n",
              "      <td>27</td>\n",
              "      <td>6</td>\n",
              "      <td>1</td>\n",
              "      <td>21</td>\n",
              "      <td>0</td>\n",
              "      <td>10</td>\n",
              "      <td>0</td>\n",
              "      <td>3</td>\n",
              "      <td>1</td>\n",
              "      <td>6</td>\n",
              "      <td>1</td>\n",
              "      <td>6</td>\n",
              "    </tr>\n",
              "    <tr>\n",
              "      <th>981</th>\n",
              "      <td>3</td>\n",
              "      <td>3</td>\n",
              "      <td>0</td>\n",
              "      <td>8</td>\n",
              "      <td>15</td>\n",
              "      <td>6</td>\n",
              "      <td>0</td>\n",
              "      <td>14</td>\n",
              "      <td>5</td>\n",
              "      <td>11</td>\n",
              "      <td>30</td>\n",
              "      <td>2</td>\n",
              "      <td>1</td>\n",
              "      <td>5</td>\n",
              "      <td>0</td>\n",
              "      <td>21</td>\n",
              "    </tr>\n",
              "    <tr>\n",
              "      <th>...</th>\n",
              "      <td>...</td>\n",
              "      <td>...</td>\n",
              "      <td>...</td>\n",
              "      <td>...</td>\n",
              "      <td>...</td>\n",
              "      <td>...</td>\n",
              "      <td>...</td>\n",
              "      <td>...</td>\n",
              "      <td>...</td>\n",
              "      <td>...</td>\n",
              "      <td>...</td>\n",
              "      <td>...</td>\n",
              "      <td>...</td>\n",
              "      <td>...</td>\n",
              "      <td>...</td>\n",
              "      <td>...</td>\n",
              "    </tr>\n",
              "    <tr>\n",
              "      <th>2440</th>\n",
              "      <td>1</td>\n",
              "      <td>3</td>\n",
              "      <td>0</td>\n",
              "      <td>8</td>\n",
              "      <td>21</td>\n",
              "      <td>5</td>\n",
              "      <td>2</td>\n",
              "      <td>1</td>\n",
              "      <td>20</td>\n",
              "      <td>9</td>\n",
              "      <td>25</td>\n",
              "      <td>2</td>\n",
              "      <td>1</td>\n",
              "      <td>6</td>\n",
              "      <td>1</td>\n",
              "      <td>6</td>\n",
              "    </tr>\n",
              "    <tr>\n",
              "      <th>3264</th>\n",
              "      <td>4</td>\n",
              "      <td>2</td>\n",
              "      <td>1</td>\n",
              "      <td>8</td>\n",
              "      <td>3</td>\n",
              "      <td>3</td>\n",
              "      <td>1</td>\n",
              "      <td>4</td>\n",
              "      <td>25</td>\n",
              "      <td>8</td>\n",
              "      <td>0</td>\n",
              "      <td>3</td>\n",
              "      <td>1</td>\n",
              "      <td>6</td>\n",
              "      <td>1</td>\n",
              "      <td>6</td>\n",
              "    </tr>\n",
              "    <tr>\n",
              "      <th>9845</th>\n",
              "      <td>4</td>\n",
              "      <td>2</td>\n",
              "      <td>1</td>\n",
              "      <td>5</td>\n",
              "      <td>18</td>\n",
              "      <td>5</td>\n",
              "      <td>1</td>\n",
              "      <td>12</td>\n",
              "      <td>35</td>\n",
              "      <td>11</td>\n",
              "      <td>30</td>\n",
              "      <td>3</td>\n",
              "      <td>1</td>\n",
              "      <td>6</td>\n",
              "      <td>1</td>\n",
              "      <td>6</td>\n",
              "    </tr>\n",
              "    <tr>\n",
              "      <th>116</th>\n",
              "      <td>4</td>\n",
              "      <td>0</td>\n",
              "      <td>5</td>\n",
              "      <td>8</td>\n",
              "      <td>18</td>\n",
              "      <td>3</td>\n",
              "      <td>1</td>\n",
              "      <td>18</td>\n",
              "      <td>25</td>\n",
              "      <td>8</td>\n",
              "      <td>0</td>\n",
              "      <td>0</td>\n",
              "      <td>1</td>\n",
              "      <td>6</td>\n",
              "      <td>1</td>\n",
              "      <td>7</td>\n",
              "    </tr>\n",
              "    <tr>\n",
              "      <th>2732</th>\n",
              "      <td>4</td>\n",
              "      <td>3</td>\n",
              "      <td>0</td>\n",
              "      <td>8</td>\n",
              "      <td>9</td>\n",
              "      <td>5</td>\n",
              "      <td>1</td>\n",
              "      <td>23</td>\n",
              "      <td>35</td>\n",
              "      <td>20</td>\n",
              "      <td>25</td>\n",
              "      <td>2</td>\n",
              "      <td>1</td>\n",
              "      <td>10</td>\n",
              "      <td>1</td>\n",
              "      <td>3</td>\n",
              "    </tr>\n",
              "  </tbody>\n",
              "</table>\n",
              "<p>9347 rows × 16 columns</p>\n",
              "</div>"
            ],
            "text/plain": [
              "      Airline  Source  Destination  ...  Route_3  Route_4  Route_5\n",
              "8876        4       3            0  ...        6        1        3\n",
              "1443        4       3            0  ...        6        1        3\n",
              "8835        4       3            0  ...       10        1        3\n",
              "8572        6       2            1  ...        6        1        6\n",
              "981         3       3            0  ...        5        0       21\n",
              "...       ...     ...          ...  ...      ...      ...      ...\n",
              "2440        1       3            0  ...        6        1        6\n",
              "3264        4       2            1  ...        6        1        6\n",
              "9845        4       2            1  ...        6        1        6\n",
              "116         4       0            5  ...        6        1        7\n",
              "2732        4       3            0  ...       10        1        3\n",
              "\n",
              "[9347 rows x 16 columns]"
            ]
          },
          "metadata": {},
          "execution_count": 115
        }
      ]
    },
    {
      "cell_type": "code",
      "metadata": {
        "id": "aaENtoW1FvTJ"
      },
      "source": [
        "autom = reg.AutoSklearnRegressor(time_left_for_this_task=120 , per_run_time_limit=30)"
      ],
      "execution_count": 116,
      "outputs": []
    },
    {
      "cell_type": "code",
      "metadata": {
        "colab": {
          "base_uri": "https://localhost:8080/"
        },
        "id": "xx4M6o0fGLbH",
        "outputId": "c308a36a-1735-450e-c2c6-7da1083b0772"
      },
      "source": [
        "autom.fit(x_train,y_train)"
      ],
      "execution_count": 117,
      "outputs": [
        {
          "output_type": "execute_result",
          "data": {
            "text/plain": [
              "AutoSklearnRegressor(per_run_time_limit=30, time_left_for_this_task=120)"
            ]
          },
          "metadata": {},
          "execution_count": 117
        }
      ]
    },
    {
      "cell_type": "code",
      "metadata": {
        "colab": {
          "base_uri": "https://localhost:8080/"
        },
        "id": "PcotgsuGGPTE",
        "outputId": "8054e852-304f-46f0-d9ff-083859dd6d05"
      },
      "source": [
        "print(autom.leaderboard())"
      ],
      "execution_count": 118,
      "outputs": [
        {
          "output_type": "stream",
          "name": "stdout",
          "text": [
            "          rank  ensemble_weight               type      cost   duration\n",
            "model_id                                                               \n",
            "4            1             0.54  gradient_boosting  0.306092   3.102930\n",
            "2            2             0.12      random_forest  0.325688  12.496546\n",
            "3            3             0.34  gradient_boosting  0.327479   5.262914\n"
          ]
        }
      ]
    },
    {
      "cell_type": "code",
      "metadata": {
        "colab": {
          "base_uri": "https://localhost:8080/"
        },
        "id": "a1HH3MGEG0U9",
        "outputId": "ebfeccfb-e0d8-43e5-cf16-cb786f308bee"
      },
      "source": [
        "print(autom.show_models())"
      ],
      "execution_count": 119,
      "outputs": [
        {
          "output_type": "stream",
          "name": "stdout",
          "text": [
            "[(0.540000, SimpleRegressionPipeline({'data_preprocessor:__choice__': 'feature_type', 'feature_preprocessor:__choice__': 'no_preprocessing', 'regressor:__choice__': 'gradient_boosting', 'data_preprocessor:feature_type:categorical_transformer:categorical_encoding:__choice__': 'one_hot_encoding', 'data_preprocessor:feature_type:categorical_transformer:category_coalescence:__choice__': 'minority_coalescer', 'data_preprocessor:feature_type:numerical_transformer:imputation:strategy': 'median', 'data_preprocessor:feature_type:numerical_transformer:rescaling:__choice__': 'robust_scaler', 'regressor:gradient_boosting:early_stop': 'off', 'regressor:gradient_boosting:l2_regularization': 5.997418027353535e-10, 'regressor:gradient_boosting:learning_rate': 0.12286466971783992, 'regressor:gradient_boosting:loss': 'least_squares', 'regressor:gradient_boosting:max_bins': 255, 'regressor:gradient_boosting:max_depth': 'None', 'regressor:gradient_boosting:max_leaf_nodes': 26, 'regressor:gradient_boosting:min_samples_leaf': 8, 'regressor:gradient_boosting:scoring': 'loss', 'regressor:gradient_boosting:tol': 1e-07, 'data_preprocessor:feature_type:categorical_transformer:category_coalescence:minority_coalescer:minimum_fraction': 0.010000000000000004, 'data_preprocessor:feature_type:numerical_transformer:rescaling:robust_scaler:q_max': 0.7912621507143142, 'data_preprocessor:feature_type:numerical_transformer:rescaling:robust_scaler:q_min': 0.2637968890661204},\n",
            "dataset_properties={\n",
            "  'task': 4,\n",
            "  'sparse': False,\n",
            "  'multioutput': False,\n",
            "  'target_type': 'regression',\n",
            "  'signed': False})),\n",
            "(0.340000, SimpleRegressionPipeline({'data_preprocessor:__choice__': 'feature_type', 'feature_preprocessor:__choice__': 'select_rates_regression', 'regressor:__choice__': 'gradient_boosting', 'data_preprocessor:feature_type:categorical_transformer:categorical_encoding:__choice__': 'no_encoding', 'data_preprocessor:feature_type:categorical_transformer:category_coalescence:__choice__': 'no_coalescense', 'data_preprocessor:feature_type:numerical_transformer:imputation:strategy': 'mean', 'data_preprocessor:feature_type:numerical_transformer:rescaling:__choice__': 'minmax', 'feature_preprocessor:select_rates_regression:alpha': 0.2186105871515939, 'feature_preprocessor:select_rates_regression:mode': 'fdr', 'feature_preprocessor:select_rates_regression:score_func': 'f_regression', 'regressor:gradient_boosting:early_stop': 'off', 'regressor:gradient_boosting:l2_regularization': 0.10377482408306521, 'regressor:gradient_boosting:learning_rate': 0.016255400771699312, 'regressor:gradient_boosting:loss': 'least_squares', 'regressor:gradient_boosting:max_bins': 255, 'regressor:gradient_boosting:max_depth': 'None', 'regressor:gradient_boosting:max_leaf_nodes': 65, 'regressor:gradient_boosting:min_samples_leaf': 70, 'regressor:gradient_boosting:scoring': 'loss', 'regressor:gradient_boosting:tol': 1e-07},\n",
            "dataset_properties={\n",
            "  'task': 4,\n",
            "  'sparse': False,\n",
            "  'multioutput': False,\n",
            "  'target_type': 'regression',\n",
            "  'signed': False})),\n",
            "(0.120000, SimpleRegressionPipeline({'data_preprocessor:__choice__': 'feature_type', 'feature_preprocessor:__choice__': 'no_preprocessing', 'regressor:__choice__': 'random_forest', 'data_preprocessor:feature_type:categorical_transformer:categorical_encoding:__choice__': 'one_hot_encoding', 'data_preprocessor:feature_type:categorical_transformer:category_coalescence:__choice__': 'minority_coalescer', 'data_preprocessor:feature_type:numerical_transformer:imputation:strategy': 'mean', 'data_preprocessor:feature_type:numerical_transformer:rescaling:__choice__': 'standardize', 'regressor:random_forest:bootstrap': 'True', 'regressor:random_forest:criterion': 'mse', 'regressor:random_forest:max_depth': 'None', 'regressor:random_forest:max_features': 1.0, 'regressor:random_forest:max_leaf_nodes': 'None', 'regressor:random_forest:min_impurity_decrease': 0.0, 'regressor:random_forest:min_samples_leaf': 1, 'regressor:random_forest:min_samples_split': 2, 'regressor:random_forest:min_weight_fraction_leaf': 0.0, 'data_preprocessor:feature_type:categorical_transformer:category_coalescence:minority_coalescer:minimum_fraction': 0.01},\n",
            "dataset_properties={\n",
            "  'task': 4,\n",
            "  'sparse': False,\n",
            "  'multioutput': False,\n",
            "  'target_type': 'regression',\n",
            "  'signed': False})),\n",
            "]\n"
          ]
        }
      ]
    },
    {
      "cell_type": "code",
      "metadata": {
        "id": "yDbqMKfrG_td"
      },
      "source": [
        ""
      ],
      "execution_count": null,
      "outputs": []
    }
  ]
}